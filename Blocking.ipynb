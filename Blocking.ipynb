{
 "cells": [
  {
   "cell_type": "code",
   "execution_count": 1,
   "metadata": {
    "collapsed": false
   },
   "outputs": [
    {
     "name": "stderr",
     "output_type": "stream",
     "text": [
      "c:\\users\\aparn\\anaconda\\envs\\my_first_env\\lib\\site-packages\\sklearn\\cross_validation.py:44: DeprecationWarning: This module was deprecated in version 0.18 in favor of the model_selection module into which all the refactored classes and functions are moved. Also note that the interface of the new CV iterators are different from that of this module. This module will be removed in 0.20.\n",
      "  \"This module will be removed in 0.20.\", DeprecationWarning)\n",
      "Metadata file is not present in the given path; proceeding to read the csv file.\n"
     ]
    },
    {
     "data": {
      "text/html": [
       "<div>\n",
       "<table border=\"1\" class=\"dataframe\">\n",
       "  <thead>\n",
       "    <tr style=\"text-align: right;\">\n",
       "      <th></th>\n",
       "      <th>id</th>\n",
       "      <th>name</th>\n",
       "      <th>genus</th>\n",
       "      <th>family</th>\n",
       "      <th>ecology</th>\n",
       "      <th>countries</th>\n",
       "      <th>threat_paragraph</th>\n",
       "      <th>conservation_paragraph</th>\n",
       "      <th>pop_trend</th>\n",
       "      <th>status</th>\n",
       "      <th>country_count</th>\n",
       "      <th>scientific_name</th>\n",
       "    </tr>\n",
       "  </thead>\n",
       "  <tbody>\n",
       "    <tr>\n",
       "      <th>0</th>\n",
       "      <td>0</td>\n",
       "      <td>Ochlockonee Moccasinshell</td>\n",
       "      <td>Medionidus</td>\n",
       "      <td>Unionidae</td>\n",
       "      <td>Freshwater</td>\n",
       "      <td>United States (Florida, Georgia);</td>\n",
       "      <td>NaN</td>\n",
       "      <td>NaN</td>\n",
       "      <td>NaN</td>\n",
       "      <td>\\r\\n    Critically Endangered\\r\\n\\r\\n\\r\\n    A1ce\\r\\n\\r\\n</td>\n",
       "      <td>1</td>\n",
       "      <td>Medionidus simpsonianus</td>\n",
       "    </tr>\n",
       "    <tr>\n",
       "      <th>1</th>\n",
       "      <td>1</td>\n",
       "      <td>Nelson's Spiny Pocket Mouse</td>\n",
       "      <td>Heteromys</td>\n",
       "      <td>Heteromyidae</td>\n",
       "      <td>Terrestrial</td>\n",
       "      <td>Guatemala; Mexico (Chiapas);</td>\n",
       "      <td>\\r\\n    The main threat to this species is the significant forest loss in its habitat. Habitat f...</td>\n",
       "      <td>['\\n    This species occurs in a newly-named national park, Tacana, in Mexico.\\n\\n    \\n  ']</td>\n",
       "      <td>Decreasing</td>\n",
       "      <td>\\r\\n    Endangered\\r\\n\\r\\n\\r\\n    B1ab(i,ii,iii,v)\\r\\n\\r\\n</td>\n",
       "      <td>2</td>\n",
       "      <td>Heteromys nelsoni</td>\n",
       "    </tr>\n",
       "    <tr>\n",
       "      <th>2</th>\n",
       "      <td>2</td>\n",
       "      <td>Comoro Friar</td>\n",
       "      <td>Amauris</td>\n",
       "      <td>Nymphalidae</td>\n",
       "      <td>NaN</td>\n",
       "      <td>Comoros;</td>\n",
       "      <td>NaN</td>\n",
       "      <td>NaN</td>\n",
       "      <td>NaN</td>\n",
       "      <td>\\r\\n    Endangered\\r\\n\\r\\n\\r\\n    B1+2c, C2b\\r\\n\\r\\n</td>\n",
       "      <td>1</td>\n",
       "      <td>Amauris comorana</td>\n",
       "    </tr>\n",
       "    <tr>\n",
       "      <th>3</th>\n",
       "      <td>3</td>\n",
       "      <td>Atlantic Halibut, Halibut</td>\n",
       "      <td>Hippoglossus</td>\n",
       "      <td>Pleuronectidae</td>\n",
       "      <td>NaN</td>\n",
       "      <td>&lt;div&gt;Atlantic â northeast; Atlantic â northwest&lt;/div&gt;; Canada (Newfoundland I); Denmark; Far...</td>\n",
       "      <td>NaN</td>\n",
       "      <td>NaN</td>\n",
       "      <td>NaN</td>\n",
       "      <td>\\r\\n    Endangered\\r\\n\\r\\n\\r\\n    A1d\\r\\n\\r\\n</td>\n",
       "      <td>15</td>\n",
       "      <td>Hippoglossus hippoglossus</td>\n",
       "    </tr>\n",
       "    <tr>\n",
       "      <th>4</th>\n",
       "      <td>4</td>\n",
       "      <td>NaN</td>\n",
       "      <td>Hirasea</td>\n",
       "      <td>Endodontidae</td>\n",
       "      <td>NaN</td>\n",
       "      <td>Japan (Ogasawara-shoto);</td>\n",
       "      <td>NaN</td>\n",
       "      <td>NaN</td>\n",
       "      <td>NaN</td>\n",
       "      <td>\\r\\n    Endangered\\r\\n\\r\\n\\r\\n    A1d\\r\\n\\r\\n</td>\n",
       "      <td>1</td>\n",
       "      <td>Hirasea acutissima</td>\n",
       "    </tr>\n",
       "  </tbody>\n",
       "</table>\n",
       "</div>"
      ],
      "text/plain": [
       "   id                         name         genus          family      ecology  \\\n",
       "0   0    Ochlockonee Moccasinshell    Medionidus       Unionidae   Freshwater   \n",
       "1   1  Nelson's Spiny Pocket Mouse     Heteromys    Heteromyidae  Terrestrial   \n",
       "2   2                 Comoro Friar       Amauris     Nymphalidae          NaN   \n",
       "3   3    Atlantic Halibut, Halibut  Hippoglossus  Pleuronectidae          NaN   \n",
       "4   4                          NaN       Hirasea    Endodontidae          NaN   \n",
       "\n",
       "                                                                                             countries  \\\n",
       "0                                                                   United States (Florida, Georgia);    \n",
       "1                                                                        Guatemala; Mexico (Chiapas);    \n",
       "2                                                                                            Comoros;    \n",
       "3  <div>Atlantic â northeast; Atlantic â northwest</div>; Canada (Newfoundland I); Denmark; Far...   \n",
       "4                                                                            Japan (Ogasawara-shoto);    \n",
       "\n",
       "                                                                                      threat_paragraph  \\\n",
       "0                                                                                                  NaN   \n",
       "1  \\r\\n    The main threat to this species is the significant forest loss in its habitat. Habitat f...   \n",
       "2                                                                                                  NaN   \n",
       "3                                                                                                  NaN   \n",
       "4                                                                                                  NaN   \n",
       "\n",
       "                                                                         conservation_paragraph  \\\n",
       "0                                                                                           NaN   \n",
       "1  ['\\n    This species occurs in a newly-named national park, Tacana, in Mexico.\\n\\n    \\n  ']   \n",
       "2                                                                                           NaN   \n",
       "3                                                                                           NaN   \n",
       "4                                                                                           NaN   \n",
       "\n",
       "    pop_trend                                                          status  \\\n",
       "0         NaN   \\r\\n    Critically Endangered\\r\\n\\r\\n\\r\\n    A1ce\\r\\n\\r\\n       \n",
       "1  Decreasing  \\r\\n    Endangered\\r\\n\\r\\n\\r\\n    B1ab(i,ii,iii,v)\\r\\n\\r\\n       \n",
       "2         NaN        \\r\\n    Endangered\\r\\n\\r\\n\\r\\n    B1+2c, C2b\\r\\n\\r\\n       \n",
       "3         NaN               \\r\\n    Endangered\\r\\n\\r\\n\\r\\n    A1d\\r\\n\\r\\n       \n",
       "4         NaN               \\r\\n    Endangered\\r\\n\\r\\n\\r\\n    A1d\\r\\n\\r\\n       \n",
       "\n",
       "   country_count            scientific_name  \n",
       "0              1    Medionidus simpsonianus  \n",
       "1              2          Heteromys nelsoni  \n",
       "2              1           Amauris comorana  \n",
       "3             15  Hippoglossus hippoglossus  \n",
       "4              1         Hirasea acutissima  "
      ]
     },
     "execution_count": 1,
     "metadata": {},
     "output_type": "execute_result"
    }
   ],
   "source": [
    "#Read in Redlist\n",
    "\n",
    "import pandas as pd\n",
    "import py_entitymatching as em\n",
    "import math\n",
    "import matplotlib.pyplot as plt\n",
    "import numpy as np\n",
    "from matplotlib import style\n",
    "import re\n",
    "style.use('ggplot')\n",
    "\n",
    "# Read in csv as dataframe\n",
    "rl = em.read_csv_metadata(\"tenFeaturesRedlist.csv\", encoding=\"ISO-8859-1\", key='id')\n",
    "# glance at first few rows\n",
    "rl.head()\n"
   ]
  },
  {
   "cell_type": "code",
   "execution_count": null,
   "metadata": {
    "collapsed": false
   },
   "outputs": [],
   "source": [
    "# CME\n",
    "rl.columns# get key\n",
    "\n",
    "# Note: The id column of the  redlist csv doesn't actually look like the object created here (rl).  In the csv,\n",
    "# id numbers jump around since they represent original row number of the original scraped data csv.  Apparently\n",
    "# this library can detect what we want and enumerate things in order if you give it a key feature like this.\n"
   ]
  },
  {
   "cell_type": "code",
   "execution_count": null,
   "metadata": {
    "collapsed": false,
    "scrolled": false
   },
   "outputs": [],
   "source": [
    "#Read in ARKIVE\n",
    "# Read in csv as dataframe\n",
    "ar = em.read_csv_metadata(\"finalArkives.csv\", encoding=\"ISO-8859-1\", key=\"id\")\n",
    "\n",
    "# glance at first few rows\n",
    "ar.head()"
   ]
  },
  {
   "cell_type": "code",
   "execution_count": null,
   "metadata": {
    "collapsed": false
   },
   "outputs": [],
   "source": [
    "# Remove parentheticals from arkive common names\n",
    "# author: CME\n",
    "# Next, actually remove scientific name and replace with common name(s)\n",
    "#ar = arBeforeRemovingNames # in case script now run completely in order\n",
    "#ar = ar[ar.animalName.str.contains(\"\\(\") == True] # update df to contain only tuples that contain common/nick names\n",
    "error = 0 # make sure there's no wonky cases\n",
    "\n",
    "# remove parenthesis contents\n",
    "for index, row in ar.iterrows():\n",
    "    genus = str(row['name'])\n",
    "\n",
    "    pstart = genus.find(\"(\")\n",
    "    if pstart !=-1:        \n",
    "        # extract full common/nick name\n",
    "        noparens = genus[0:pstart]\n",
    "        ar.loc[index, 'name'] = noparens\n",
    "    else:\n",
    "        error = error + 1\n",
    "\n",
    "print(error)\n"
   ]
  },
  {
   "cell_type": "code",
   "execution_count": null,
   "metadata": {
    "collapsed": false
   },
   "outputs": [],
   "source": [
    "# Concatenate nickname and common_name fields in arkive\n",
    "# author: @andrewedstrom\n",
    "\n",
    "# remove parenthesis contents\n",
    "nameColumn = []\n",
    "for index, row in ar.iterrows():\n",
    "    nickname = str(row['scientific_name']) #look here if errors start happening\n",
    "    nickname = re.sub('[^A-Za-z0-9;,\\s]+', '', nickname).lower()\n",
    "    common = str(row['common_name'])\n",
    "    common = re.sub('[^A-Za-z0-9;,\\s]+', '', common).lower()\n",
    "    if common in nickname: \n",
    "        nameColumn.append(nickname)\n",
    "    else:\n",
    "        nameColumn.append((nickname + \"; \" + common))\n",
    "ar['name'] = nameColumn\n",
    "ar.head()"
   ]
  },
  {
   "cell_type": "code",
   "execution_count": 2,
   "metadata": {
    "collapsed": false
   },
   "outputs": [
    {
     "data": {
      "text/html": [
       "<div>\n",
       "<table border=\"1\" class=\"dataframe\">\n",
       "  <thead>\n",
       "    <tr style=\"text-align: right;\">\n",
       "      <th></th>\n",
       "      <th>id</th>\n",
       "      <th>name</th>\n",
       "      <th>genus</th>\n",
       "      <th>family</th>\n",
       "      <th>ecology</th>\n",
       "      <th>countries</th>\n",
       "      <th>threat_paragraph</th>\n",
       "      <th>conservation_paragraph</th>\n",
       "      <th>pop_trend</th>\n",
       "      <th>status</th>\n",
       "      <th>country_count</th>\n",
       "      <th>scientific_name</th>\n",
       "    </tr>\n",
       "  </thead>\n",
       "  <tbody>\n",
       "    <tr>\n",
       "      <th>0</th>\n",
       "      <td>0</td>\n",
       "      <td>ochlockonee moccasinshell</td>\n",
       "      <td>Medionidus</td>\n",
       "      <td>Unionidae</td>\n",
       "      <td>Freshwater</td>\n",
       "      <td>United States (Florida, Georgia);</td>\n",
       "      <td>NaN</td>\n",
       "      <td>NaN</td>\n",
       "      <td>NaN</td>\n",
       "      <td>\\r\\n    Critically Endangered\\r\\n\\r\\n\\r\\n    A1ce\\r\\n\\r\\n</td>\n",
       "      <td>1</td>\n",
       "      <td>Medionidus simpsonianus</td>\n",
       "    </tr>\n",
       "    <tr>\n",
       "      <th>1</th>\n",
       "      <td>1</td>\n",
       "      <td>nelsons spiny pocket mouse</td>\n",
       "      <td>Heteromys</td>\n",
       "      <td>Heteromyidae</td>\n",
       "      <td>Terrestrial</td>\n",
       "      <td>Guatemala; Mexico (Chiapas);</td>\n",
       "      <td>\\r\\n    The main threat to this species is the significant forest loss in its habitat. Habitat f...</td>\n",
       "      <td>['\\n    This species occurs in a newly-named national park, Tacana, in Mexico.\\n\\n    \\n  ']</td>\n",
       "      <td>Decreasing</td>\n",
       "      <td>\\r\\n    Endangered\\r\\n\\r\\n\\r\\n    B1ab(i,ii,iii,v)\\r\\n\\r\\n</td>\n",
       "      <td>2</td>\n",
       "      <td>Heteromys nelsoni</td>\n",
       "    </tr>\n",
       "    <tr>\n",
       "      <th>2</th>\n",
       "      <td>2</td>\n",
       "      <td>comoro friar</td>\n",
       "      <td>Amauris</td>\n",
       "      <td>Nymphalidae</td>\n",
       "      <td>NaN</td>\n",
       "      <td>Comoros;</td>\n",
       "      <td>NaN</td>\n",
       "      <td>NaN</td>\n",
       "      <td>NaN</td>\n",
       "      <td>\\r\\n    Endangered\\r\\n\\r\\n\\r\\n    B1+2c, C2b\\r\\n\\r\\n</td>\n",
       "      <td>1</td>\n",
       "      <td>Amauris comorana</td>\n",
       "    </tr>\n",
       "    <tr>\n",
       "      <th>3</th>\n",
       "      <td>3</td>\n",
       "      <td>atlantic halibut, halibut</td>\n",
       "      <td>Hippoglossus</td>\n",
       "      <td>Pleuronectidae</td>\n",
       "      <td>NaN</td>\n",
       "      <td>&lt;div&gt;Atlantic â northeast; Atlantic â northwest&lt;/div&gt;; Canada (Newfoundland I); Denmark; Far...</td>\n",
       "      <td>NaN</td>\n",
       "      <td>NaN</td>\n",
       "      <td>NaN</td>\n",
       "      <td>\\r\\n    Endangered\\r\\n\\r\\n\\r\\n    A1d\\r\\n\\r\\n</td>\n",
       "      <td>15</td>\n",
       "      <td>Hippoglossus hippoglossus</td>\n",
       "    </tr>\n",
       "    <tr>\n",
       "      <th>4</th>\n",
       "      <td>4</td>\n",
       "      <td>nan</td>\n",
       "      <td>Hirasea</td>\n",
       "      <td>Endodontidae</td>\n",
       "      <td>NaN</td>\n",
       "      <td>Japan (Ogasawara-shoto);</td>\n",
       "      <td>NaN</td>\n",
       "      <td>NaN</td>\n",
       "      <td>NaN</td>\n",
       "      <td>\\r\\n    Endangered\\r\\n\\r\\n\\r\\n    A1d\\r\\n\\r\\n</td>\n",
       "      <td>1</td>\n",
       "      <td>Hirasea acutissima</td>\n",
       "    </tr>\n",
       "  </tbody>\n",
       "</table>\n",
       "</div>"
      ],
      "text/plain": [
       "   id                        name         genus          family      ecology  \\\n",
       "0   0   ochlockonee moccasinshell    Medionidus       Unionidae   Freshwater   \n",
       "1   1  nelsons spiny pocket mouse     Heteromys    Heteromyidae  Terrestrial   \n",
       "2   2                comoro friar       Amauris     Nymphalidae          NaN   \n",
       "3   3   atlantic halibut, halibut  Hippoglossus  Pleuronectidae          NaN   \n",
       "4   4                         nan       Hirasea    Endodontidae          NaN   \n",
       "\n",
       "                                                                                             countries  \\\n",
       "0                                                                   United States (Florida, Georgia);    \n",
       "1                                                                        Guatemala; Mexico (Chiapas);    \n",
       "2                                                                                            Comoros;    \n",
       "3  <div>Atlantic â northeast; Atlantic â northwest</div>; Canada (Newfoundland I); Denmark; Far...   \n",
       "4                                                                            Japan (Ogasawara-shoto);    \n",
       "\n",
       "                                                                                      threat_paragraph  \\\n",
       "0                                                                                                  NaN   \n",
       "1  \\r\\n    The main threat to this species is the significant forest loss in its habitat. Habitat f...   \n",
       "2                                                                                                  NaN   \n",
       "3                                                                                                  NaN   \n",
       "4                                                                                                  NaN   \n",
       "\n",
       "                                                                         conservation_paragraph  \\\n",
       "0                                                                                           NaN   \n",
       "1  ['\\n    This species occurs in a newly-named national park, Tacana, in Mexico.\\n\\n    \\n  ']   \n",
       "2                                                                                           NaN   \n",
       "3                                                                                           NaN   \n",
       "4                                                                                           NaN   \n",
       "\n",
       "    pop_trend                                                          status  \\\n",
       "0         NaN   \\r\\n    Critically Endangered\\r\\n\\r\\n\\r\\n    A1ce\\r\\n\\r\\n       \n",
       "1  Decreasing  \\r\\n    Endangered\\r\\n\\r\\n\\r\\n    B1ab(i,ii,iii,v)\\r\\n\\r\\n       \n",
       "2         NaN        \\r\\n    Endangered\\r\\n\\r\\n\\r\\n    B1+2c, C2b\\r\\n\\r\\n       \n",
       "3         NaN               \\r\\n    Endangered\\r\\n\\r\\n\\r\\n    A1d\\r\\n\\r\\n       \n",
       "4         NaN               \\r\\n    Endangered\\r\\n\\r\\n\\r\\n    A1d\\r\\n\\r\\n       \n",
       "\n",
       "   country_count            scientific_name  \n",
       "0              1    Medionidus simpsonianus  \n",
       "1              2          Heteromys nelsoni  \n",
       "2              1           Amauris comorana  \n",
       "3             15  Hippoglossus hippoglossus  \n",
       "4              1         Hirasea acutissima  "
      ]
     },
     "execution_count": 2,
     "metadata": {},
     "output_type": "execute_result"
    }
   ],
   "source": [
    "# Lowercase redlist name field\n",
    "# author: @andrewedstrom\n",
    "error = 0 # make sure there's no wonky cases\n",
    "\n",
    "# remove parenthesis contents\n",
    "for index, row in rl.iterrows():\n",
    "    n = str(row['name'])\n",
    "    n = re.sub('[^A-Za-z0-9;,\\s]+', '', n).lower()\n",
    "\n",
    "    rl.loc[index, 'name'] = n.lower()\n",
    "\n",
    "rl.head()"
   ]
  },
  {
   "cell_type": "code",
   "execution_count": null,
   "metadata": {
    "collapsed": false
   },
   "outputs": [],
   "source": []
  },
  {
   "cell_type": "code",
   "execution_count": null,
   "metadata": {
    "collapsed": false,
    "scrolled": true
   },
   "outputs": [],
   "source": [
    "# Remove parentheticals from arkive genus\n",
    "# author: @andrewedstrom\n",
    "# Next, actually remove scientific name and replace with common name(s)\n",
    "#ar = arBeforeRemovingNames # in case script now run completely in order\n",
    "#ar = ar[ar.animalName.str.contains(\"\\(\") == True] # update df to contain only tuples that contain common/nick names\n",
    "error = 0 # make sure there's no wonky cases\n",
    "\n",
    "# remove parenthesis contents\n",
    "for index, row in ar.iterrows():\n",
    "    genus = str(row['genus'])\n",
    "\n",
    "    pstart = genus.find(\"(\")\n",
    "    if pstart !=-1:        \n",
    "        # extract full common/nick name\n",
    "        noparens = genus[0:pstart]\n",
    "        ar.loc[index, 'genus'] = noparens\n",
    "    else:\n",
    "        error = error + 1\n",
    "\n",
    "print(error)"
   ]
  },
  {
   "cell_type": "code",
   "execution_count": 3,
   "metadata": {
    "collapsed": false
   },
   "outputs": [],
   "source": [
    "rl.to_csv('finalRedlist.csv')\n",
    "#ar.to_csv('finalArkives.csv')"
   ]
  },
  {
   "cell_type": "code",
   "execution_count": null,
   "metadata": {
    "collapsed": false
   },
   "outputs": [],
   "source": [
    "# Rule-based blocking over input tables\n",
    "# first get features that can be used\n",
    "feature_table = em.get_features_for_blocking(rl, ar)\n"
   ]
  },
  {
   "cell_type": "code",
   "execution_count": null,
   "metadata": {
    "collapsed": false,
    "scrolled": true
   },
   "outputs": [],
   "source": [
    "#len(feature_table)\n",
    "feature_table\n",
    "#em.get_attr_corres(rl, ar)['ltable']"
   ]
  },
  {
   "cell_type": "code",
   "execution_count": null,
   "metadata": {
    "collapsed": false
   },
   "outputs": [],
   "source": []
  },
  {
   "cell_type": "code",
   "execution_count": null,
   "metadata": {
    "collapsed": false
   },
   "outputs": [],
   "source": [
    "# CME -- I'm realizing now that we may want to start with the attribute equivalence\n",
    "# blocker for names and see where that leaves us.  On my TO-DO.\n",
    "equivB = em.AttrEquivalenceBlocker()\n",
    "C0 = equivB.block_tables(rl, ar, 'name', 'name',\n",
    "                    l_output_attrs=['name', 'genus'], \n",
    "                    r_output_attrs=['name', 'genus'])\n",
    "C0\n",
    "\n",
    "# lolwat this reveals zero matches?\n"
   ]
  },
  {
   "cell_type": "code",
   "execution_count": null,
   "metadata": {
    "collapsed": false
   },
   "outputs": [],
   "source": [
    "#Do overlap blocking on name to get candidate set\n",
    "#Perform some kind of blocking to find candidate pairs\n",
    "ob = em.OverlapBlocker()\n",
    "C0 = ob.block_tables(rl, ar,'name', 'name', \n",
    "                     l_output_attrs=['name', 'genus', 'family'], \n",
    "                     r_output_attrs=['name', 'genus', 'family'], overlap_size=2)\n",
    "C0"
   ]
  },
  {
   "cell_type": "code",
   "execution_count": null,
   "metadata": {
    "collapsed": false
   },
   "outputs": [],
   "source": [
    "#Only keep candidate pairs which share genus\n",
    "ab = em.AttrEquivalenceBlocker()\n",
    "C1 = ob.block_candset(C0, 'genus', 'genus')\n",
    "C1\n",
    "\n",
    "#Do overlap blocking on name to get candidate set\n",
    "#Perform some kind of blocking to find candidate pairs\n",
    "#C1 = ab.block_tables(rl, ar,'genus', 'genus', \n",
    "#                     l_output_attrs=['name', 'genus'], \n",
    "#                     r_output_attrs=['name', 'genus'])\n"
   ]
  },
  {
   "cell_type": "code",
   "execution_count": null,
   "metadata": {
    "collapsed": false,
    "scrolled": false
   },
   "outputs": [],
   "source": [
    "C2 = equivB.block_tables(rl, ar, 'family', 'family',\n",
    "                    l_output_attrs=['name', 'genus' ,'family'], \n",
    "                    r_output_attrs=['name', 'genus', 'family'])\n",
    "\n",
    "C3 = ob.block_candset(C2, 'genus', 'genus')\n",
    "C3\n"
   ]
  },
  {
   "cell_type": "code",
   "execution_count": null,
   "metadata": {
    "collapsed": false
   },
   "outputs": [],
   "source": [
    "C = em.combine_blocker_outputs_via_union([C1, C3])\n",
    "C"
   ]
  },
  {
   "cell_type": "code",
   "execution_count": null,
   "metadata": {
    "collapsed": false
   },
   "outputs": [],
   "source": [
    "em.to_csv_metadata(C, './candidate_set.csv')"
   ]
  },
  {
   "cell_type": "code",
   "execution_count": null,
   "metadata": {
    "collapsed": true
   },
   "outputs": [],
   "source": [
    "C = em.read_csv_metadata('candidate_set.csv', ltable=rl, rtable=ar)"
   ]
  },
  {
   "cell_type": "code",
   "execution_count": null,
   "metadata": {
    "collapsed": false
   },
   "outputs": [],
   "source": [
    "C"
   ]
  },
  {
   "cell_type": "code",
   "execution_count": null,
   "metadata": {
    "collapsed": true
   },
   "outputs": [],
   "source": []
  }
 ],
 "metadata": {
  "anaconda-cloud": {},
  "kernelspec": {
   "display_name": "Python 3",
   "language": "python",
   "name": "python3"
  },
  "language_info": {
   "codemirror_mode": {
    "name": "ipython",
    "version": 3
   },
   "file_extension": ".py",
   "mimetype": "text/x-python",
   "name": "python",
   "nbconvert_exporter": "python",
   "pygments_lexer": "ipython3",
   "version": "3.5.2"
  }
 },
 "nbformat": 4,
 "nbformat_minor": 1
}
