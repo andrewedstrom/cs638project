{
 "cells": [
  {
   "cell_type": "code",
   "execution_count": 1,
   "metadata": {
    "collapsed": true
   },
   "outputs": [],
   "source": [
    "#Ignore scikit learn deprication warnings\n",
    "def warn(*args, **kwargs):\n",
    "    pass\n",
    "import warnings\n",
    "warnings.warn = warn\n"
   ]
  },
  {
   "cell_type": "code",
   "execution_count": 2,
   "metadata": {
    "collapsed": false
   },
   "outputs": [
    {
     "name": "stdout",
     "output_type": "stream",
     "text": [
      "/Users/andrew/workspace/endangeredanimals/learning\n"
     ]
    }
   ],
   "source": [
    "import os\n",
    "print(os.getcwd())\n",
    "#os.chdir('../blocking/')\n",
    "import pandas as pd\n",
    "import py_entitymatching as em\n",
    "import math\n",
    "import matplotlib.pyplot as plt\n",
    "import numpy as np\n",
    "from matplotlib import style\n",
    "import re\n"
   ]
  },
  {
   "cell_type": "code",
   "execution_count": 3,
   "metadata": {
    "collapsed": false
   },
   "outputs": [
    {
     "name": "stdout",
     "output_type": "stream",
     "text": [
      "(280, 9)\n"
     ]
    }
   ],
   "source": [
    "from numpy import genfromtxt\n",
    "# train = pd.read_csv('train_reduced.csv', encoding=\"ISO-8859-1\", index_col='_id')\n",
    "# test = pd.read_csv('test_reduced.csv', encoding=\"ISO-8859-1\", index_col='_id')\n",
    "from numpy import genfromtxt\n",
    "#myData = genfromtxt('train.csv',delimiter=',')\n",
    "\n",
    "#train = genfromtxt('train_reduced_CME_test.csv',delimiter=',')\n",
    "#test = genfromtxt('test_reduced_CME_test.csv',delimiter=',')\n",
    "\n",
    "train = genfromtxt('train_reduced.csv',delimiter=',')\n",
    "test = genfromtxt('test_reduced.csv',delimiter=',')\n",
    "\n",
    "print(train.shape)\n",
    "# test = test.dropna()\n",
    "# test.target\n",
    "train = train[~np.isnan(train).any(axis=1)]\n",
    "\n",
    "y = train[:,4] # label\n",
    "X = train[:,0:3] # data"
   ]
  },
  {
   "cell_type": "code",
   "execution_count": 4,
   "metadata": {
    "collapsed": false
   },
   "outputs": [],
   "source": [
    "# from sklearn.cross_validation import cross_val_score\n",
    "\n",
    "# # TODO use F-1 for scoring, or a hybrid if possible\n",
    "# # we can use a for loop ['f1', 'accuracy', ]\n",
    "# # http://scikit-learn.org/stable/modules/model_evaluation.html\n",
    "\n",
    "# # logistic regression\n",
    "# from sklearn.linear_model import LogisticRegression\n",
    "# logreg = LogisticRegression()\n",
    "# logreg.fit(X,y)\n",
    "# print('Logistic Regression:')\n",
    "# print(, cross_val_score(logreg, X, y, cv=10, scoring='accuracy').mean())\n",
    "\n",
    "# # decision tree\n",
    "# from sklearn.tree import DecisionTreeClassifier\n",
    "# clf = DecisionTreeClassifier()\n",
    "# clf.fit(X,y)\n",
    "# print('Decision Tree:', cross_val_score(clf, X, y, cv=10, scoring='accuracy').mean())\n",
    "\n",
    "# # random forest\n",
    "# from sklearn.ensemble import RandomForestClassifier\n",
    "# forest = RandomForestClassifier(n_estimators=10, max_depth=10)\n",
    "# forest.fit(X,y)\n",
    "# print('Random Forest:', cross_val_score(forest, X, y, cv=10, scoring='accuracy').mean())\n",
    "\n",
    "# # support vector machine\n",
    "# from sklearn.svm import LinearSVC\n",
    "# svm = LinearSVC()\n",
    "# svm.fit(X,y)\n",
    "# print('SVM:', cross_val_score(svm, X, y, cv=10, scoring='accuracy').mean())\n",
    "\n",
    "# # naive bayes\n",
    "# from sklearn.naive_bayes import GaussianNB\n",
    "# gnb = GaussianNB()\n",
    "# gnb.fit(X,y)\n",
    "# print('Naive Bayes:', cross_val_score(svm, X, y, cv=10, scoring='accuracy').mean())\n",
    "\n",
    "# # KNN\n",
    "# from sklearn.neighbors import KNeighborsClassifier\n",
    "# knn = KNeighborsClassifier(n_neighbors=20)\n",
    "# knn.fit(X,y)\n",
    "# print('KNN:', cross_val_score(knn, X, y, cv=10, scoring='accuracy').mean())\n"
   ]
  },
  {
   "cell_type": "code",
   "execution_count": 5,
   "metadata": {
    "collapsed": true
   },
   "outputs": [],
   "source": [
    "train = genfromtxt('train_reduced.csv',delimiter=',')\n"
   ]
  },
  {
   "cell_type": "code",
   "execution_count": 38,
   "metadata": {
    "collapsed": false
   },
   "outputs": [
    {
     "name": "stdout",
     "output_type": "stream",
     "text": [
      "(279, 9)\n",
      "[  4.41496800e+06   1.00000000e+00   0.00000000e+00   0.00000000e+00\n",
      "  -1.00000000e+00  -1.00000000e+00   0.00000000e+00   1.92307692e-02\n",
      "   0.00000000e+00]\n",
      "0.0\n",
      "y\n",
      "(279,)\n",
      "0.0\n",
      "X\n",
      "(279, 6)\n",
      "[ 1.  0.  0. -1. -1.  0.]\n"
     ]
    }
   ],
   "source": [
    "# Awesome sauce.  Now let's fill in missing values rather than dropping them\n",
    "# reload train\n",
    "train = genfromtxt('train_reduced.csv',delimiter=',')\n",
    "\n",
    "\n",
    "# get rid of first row (I think this is just column labels)\n",
    "train = train[1:,:]\n",
    "\n",
    "# # replace missing featureVals with 0.5 (halfway in between)\n",
    "where_are_NaNs = np.isnan(train)\n",
    "train[where_are_NaNs] = \n",
    "\n",
    "\n",
    "##Drop all nans:\n",
    "#train = train[~np.isnan(train).any(axis=1)]\n",
    "print(train.shape)\n",
    "print(train[6,:])\n",
    "print\n",
    "print(train[6,train.shape[1]-1])\n",
    "len(train)\n",
    "\n",
    "y = train[:,train.shape[1]-1] # label\n",
    "X = train[:,1:train.shape[1]-2] # data\n",
    "print('y')\n",
    "print(y.shape)\n",
    "print(y[6])\n",
    "print('X')\n",
    "print(X.shape)\n",
    "print(X[6])"
   ]
  },
  {
   "cell_type": "code",
   "execution_count": 30,
   "metadata": {
    "collapsed": false
   },
   "outputs": [
    {
     "data": {
      "text/plain": [
       "280"
      ]
     },
     "execution_count": 30,
     "metadata": {},
     "output_type": "execute_result"
    }
   ],
   "source": [
    "len(X)"
   ]
  },
  {
   "cell_type": "code",
   "execution_count": 39,
   "metadata": {
    "collapsed": false
   },
   "outputs": [
    {
     "name": "stdout",
     "output_type": "stream",
     "text": [
      "Logistic Regression:\n",
      "accuracy: 0.885810071155\n",
      "precision: 0.466666666667\n",
      "recall: 0.2\n",
      "f1: 0.267142857143\n",
      "\n",
      "Decision Tree:\n",
      "accuracy: 0.906974092319\n",
      "precision: 0.595\n",
      "recall: 0.466666666667\n",
      "f1: 0.495\n",
      "\n",
      "Random Forest:\n",
      "accuracy: 0.903402663747\n",
      "precision: 0.596666666667\n",
      "recall: 0.391666666667\n",
      "f1: 0.448888888889\n",
      "\n",
      "SVM:\n",
      "accuracy: 0.86398467433\n",
      "precision: 0.0\n",
      "recall: 0.0\n",
      "f1: 0.0\n",
      "\n",
      "Naive Bayes:\n",
      "accuracy: 0.796241561759\n",
      "precision: 0.476538461538\n",
      "recall: 0.508333333333\n",
      "f1: 0.440555555556\n",
      "\n",
      "KNN:\n",
      "accuracy: 0.878667214012\n",
      "precision: 0.35\n",
      "recall: 0.15\n",
      "f1: 0.203333333333\n",
      "\n"
     ]
    }
   ],
   "source": [
    "from sklearn.cross_validation import cross_val_score\n",
    "from sklearn.linear_model import LogisticRegression\n",
    "from sklearn.tree import DecisionTreeClassifier\n",
    "from sklearn.ensemble import RandomForestClassifier\n",
    "from sklearn.svm import LinearSVC\n",
    "from sklearn.naive_bayes import GaussianNB\n",
    "from sklearn.neighbors import KNeighborsClassifier\n",
    "from sklearn.metrics import *\n",
    "\n",
    "models = [LogisticRegression(), \n",
    "          DecisionTreeClassifier(), \n",
    "          RandomForestClassifier(n_estimators=10, max_depth=10),\n",
    "          LinearSVC(),\n",
    "          GaussianNB(),\n",
    "          KNeighborsClassifier(n_neighbors=20)\n",
    "         ]\n",
    "names =  ['Logistic Regression', \n",
    "          'Decision Tree',\n",
    "          'Random Forest',\n",
    "          'SVM',\n",
    "          'Naive Bayes',\n",
    "          'KNN']\n",
    "\n",
    "metrics = ['accuracy', 'precision', 'recall', 'f1']\n",
    "\n",
    "def compute_metrics(name, model):\n",
    "    model.fit(X,y)\n",
    "    print(\"{}:\".format(name))\n",
    "    for metric in metrics:\n",
    "        print(metric + ':', cross_val_score(model, X, y, cv=10, scoring=metric).mean())\n",
    "    print('')\n",
    "\n",
    "for i in range(len(names)):\n",
    "    compute_metrics(names[i], models[i])"
   ]
  },
  {
   "cell_type": "code",
   "execution_count": null,
   "metadata": {
    "collapsed": true
   },
   "outputs": [],
   "source": []
  }
 ],
 "metadata": {
  "anaconda-cloud": {},
  "kernelspec": {
   "display_name": "Python [default]",
   "language": "python",
   "name": "python3"
  },
  "language_info": {
   "codemirror_mode": {
    "name": "ipython",
    "version": 3
   },
   "file_extension": ".py",
   "mimetype": "text/x-python",
   "name": "python",
   "nbconvert_exporter": "python",
   "pygments_lexer": "ipython3",
   "version": "3.5.2"
  }
 },
 "nbformat": 4,
 "nbformat_minor": 1
}
