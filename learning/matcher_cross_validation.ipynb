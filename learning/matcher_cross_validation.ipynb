{
 "cells": [
  {
   "cell_type": "code",
   "execution_count": 44,
   "metadata": {
    "collapsed": false
   },
   "outputs": [
    {
     "name": "stdout",
     "output_type": "stream",
     "text": [
      "/Users/tammi/Desktop/CS 638 Stuffs/cs638project/learning\n"
     ]
    }
   ],
   "source": [
    "import os\n",
    "print(os.getcwd())\n",
    "#os.chdir('../blocking/')\n",
    "import pandas as pd\n",
    "import py_entitymatching as em\n",
    "import math\n",
    "import matplotlib.pyplot as plt\n",
    "import numpy as np\n",
    "from matplotlib import style\n",
    "import re\n"
   ]
  },
  {
   "cell_type": "code",
   "execution_count": 45,
   "metadata": {
    "collapsed": false
   },
   "outputs": [
    {
     "name": "stdout",
     "output_type": "stream",
     "text": [
      "(281, 5)\n"
     ]
    }
   ],
   "source": [
    "from numpy import genfromtxt\n",
    "# train = pd.read_csv('train_reduced.csv', encoding=\"ISO-8859-1\", index_col='_id')\n",
    "# test = pd.read_csv('test_reduced.csv', encoding=\"ISO-8859-1\", index_col='_id')\n",
    "from numpy import genfromtxt\n",
    "#myData = genfromtxt('train.csv',delimiter=',')\n",
    "\n",
    "train = genfromtxt('train_reduced_CME_test.csv',delimiter=',')\n",
    "test = genfromtxt('test_reduced_CME_test.csv',delimiter=',')\n",
    "\n",
    "print(train.shape)\n",
    "# test = test.dropna()\n",
    "# test.target\n",
    "train = train[~np.isnan(train).any(axis=1)]\n",
    "\n",
    "y = train[:,4] # label\n",
    "X = train[:,0:3] # data"
   ]
  },
  {
   "cell_type": "code",
   "execution_count": 46,
   "metadata": {
    "collapsed": false
   },
   "outputs": [
    {
     "name": "stdout",
     "output_type": "stream",
     "text": [
      "Logistic Regression: 0.768937728938\n",
      "Decision Tree: 0.8263003663\n",
      "Random Forest: 0.864212454212\n",
      "SVM: 0.614578754579\n",
      "Naive Bayes: 0.550256410256\n",
      "KNN: 0.768937728938\n"
     ]
    }
   ],
   "source": [
    "from sklearn.cross_validation import cross_val_score\n",
    "\n",
    "# TODO use F-1 for scoring, or a hybrid if possible\n",
    "# we can use a for loop ['f1', 'accuracy', ]\n",
    "# http://scikit-learn.org/stable/modules/model_evaluation.html\n",
    "\n",
    "# logistic regression\n",
    "from sklearn.linear_model import LogisticRegression\n",
    "logreg = LogisticRegression()\n",
    "logreg.fit(X,y)\n",
    "print('Logistic Regression:', cross_val_score(logreg, X, y, cv=10, scoring='accuracy').mean())\n",
    "\n",
    "# decision tree\n",
    "from sklearn.tree import DecisionTreeClassifier\n",
    "clf = DecisionTreeClassifier()\n",
    "clf.fit(X,y)\n",
    "print('Decision Tree:', cross_val_score(clf, X, y, cv=10, scoring='accuracy').mean())\n",
    "\n",
    "# random forest\n",
    "from sklearn.ensemble import RandomForestClassifier\n",
    "forest = RandomForestClassifier(n_estimators=10, max_depth=10)\n",
    "forest.fit(X,y)\n",
    "print('Random Forest:', cross_val_score(forest, X, y, cv=10, scoring='accuracy').mean())\n",
    "\n",
    "# support vector machine\n",
    "from sklearn.svm import LinearSVC\n",
    "svm = LinearSVC()\n",
    "svm.fit(X,y)\n",
    "print('SVM:', cross_val_score(svm, X, y, cv=10, scoring='accuracy').mean())\n",
    "\n",
    "# naive bayes\n",
    "from sklearn.naive_bayes import GaussianNB\n",
    "gnb = GaussianNB()\n",
    "gnb.fit(X,y)\n",
    "print('Naive Bayes:', cross_val_score(svm, X, y, cv=10, scoring='accuracy').mean())\n",
    "\n",
    "# KNN\n",
    "from sklearn.neighbors import KNeighborsClassifier\n",
    "knn = KNeighborsClassifier(n_neighbors=20)\n",
    "knn.fit(X,y)\n",
    "print('KNN:', cross_val_score(knn, X, y, cv=10, scoring='accuracy').mean())\n"
   ]
  },
  {
   "cell_type": "code",
   "execution_count": null,
   "metadata": {
    "collapsed": true
   },
   "outputs": [],
   "source": []
  },
  {
   "cell_type": "code",
   "execution_count": null,
   "metadata": {
    "collapsed": true
   },
   "outputs": [],
   "source": []
  },
  {
   "cell_type": "code",
   "execution_count": null,
   "metadata": {
    "collapsed": true
   },
   "outputs": [],
   "source": []
  },
  {
   "cell_type": "code",
   "execution_count": null,
   "metadata": {
    "collapsed": true
   },
   "outputs": [],
   "source": []
  },
  {
   "cell_type": "code",
   "execution_count": null,
   "metadata": {
    "collapsed": true
   },
   "outputs": [],
   "source": []
  },
  {
   "cell_type": "code",
   "execution_count": null,
   "metadata": {
    "collapsed": true
   },
   "outputs": [],
   "source": []
  },
  {
   "cell_type": "code",
   "execution_count": null,
   "metadata": {
    "collapsed": true
   },
   "outputs": [],
   "source": []
  },
  {
   "cell_type": "code",
   "execution_count": 49,
   "metadata": {
    "collapsed": false
   },
   "outputs": [],
   "source": [
    "# Awesome sauce.  Now let's fill in missing values rather than dropping them\n",
    "# reload train\n",
    "train = genfromtxt('train_reduced_CME_test.csv',delimiter=',')\n",
    "# print(train.shape)\n",
    "\n",
    "# get rid of first row (I think this is just column labels)\n",
    "train = train[1:,:]\n",
    "\n",
    "# replace missing featureVals with 0.5 (halfway in between)\n",
    "where_are_NaNs = np.isnan(train)\n",
    "train[where_are_NaNs] = 0.5\n",
    "\n",
    "y = train[:,4] # label\n",
    "X = train[:,0:3] # data"
   ]
  },
  {
   "cell_type": "code",
   "execution_count": 57,
   "metadata": {
    "collapsed": false
   },
   "outputs": [
    {
     "name": "stdout",
     "output_type": "stream",
     "text": [
      "Logistic Regression: 0.868144499179\n",
      "Decision Tree: 0.882334428024\n",
      "Random Forest: 0.904018427294\n",
      "SVM: 0.502681992337\n",
      "Naive Bayes: 0.868144499179\n",
      "KNN: 0.868144499179\n"
     ]
    }
   ],
   "source": [
    "from sklearn.cross_validation import cross_val_score\n",
    "\n",
    "#TODO use F-1 for scoring, or a hybrid if possible\n",
    "\n",
    "# logistic regression\n",
    "from sklearn.linear_model import LogisticRegression\n",
    "logregFillNA = LogisticRegression()\n",
    "logregFillNA.fit(X,y)\n",
    "print('Logistic Regression:', cross_val_score(logregFillNA, X, y, cv=10, scoring='accuracy').mean())\n",
    "\n",
    "# decision tree\n",
    "from sklearn.tree import DecisionTreeClassifier\n",
    "dtFillNA = DecisionTreeClassifier()\n",
    "dtFillNA.fit(X,y)\n",
    "print('Decision Tree:', cross_val_score(dtFillNA, X, y, cv=10, scoring='accuracy').mean())\n",
    "\n",
    "# random forest\n",
    "from sklearn.ensemble import RandomForestClassifier\n",
    "forestFillNA = RandomForestClassifier(n_estimators=10, max_depth=10)\n",
    "forestFillNA.fit(X,y)\n",
    "print('Random Forest:', cross_val_score(forestFillNA, X, y, cv=10, scoring='accuracy').mean())\n",
    "\n",
    "# support vector machine\n",
    "from sklearn.svm import LinearSVC\n",
    "svmFillNA = LinearSVC()\n",
    "svmFillNA.fit(X,y)\n",
    "print('SVM:', cross_val_score(svmFillNA, X, y, cv=10, scoring='accuracy').mean())\n",
    "\n",
    "# naive bayes\n",
    "from sklearn.naive_bayes import GaussianNB\n",
    "gnbFillNA = GaussianNB()\n",
    "gnbFillNA.fit(X,y)\n",
    "print('Naive Bayes:', cross_val_score(gnbFillNA, X, y, cv=10, scoring='accuracy').mean())\n",
    "\n",
    "# KNN\n",
    "from sklearn.neighbors import KNeighborsClassifier\n",
    "knnFillNA = KNeighborsClassifier(n_neighbors=20)\n",
    "knnFillNA.fit(X,y)\n",
    "print('KNN:', cross_val_score(knnFillNA, X, y, cv=10, scoring='accuracy').mean())\n"
   ]
  },
  {
   "cell_type": "code",
   "execution_count": 59,
   "metadata": {
    "collapsed": false
   },
   "outputs": [
    {
     "name": "stdout",
     "output_type": "stream",
     "text": [
      "Logistic Regression: 0.0\n",
      "Decision Tree: 0.885905856596\n",
      "Random Forest: 0.907343550447\n",
      "SVM: 0.568746579091\n",
      "Naive Bayes: 0.868144499179\n",
      "KNN: 0.868144499179\n"
     ]
    },
    {
     "name": "stderr",
     "output_type": "stream",
     "text": [
      "/Users/tammi/anaconda/lib/python3.5/site-packages/sklearn/metrics/classification.py:1074: UndefinedMetricWarning: F-score is ill-defined and being set to 0.0 due to no predicted samples.\n",
      "  'precision', 'predicted', average, warn_for)\n",
      "/Users/tammi/anaconda/lib/python3.5/site-packages/sklearn/metrics/classification.py:1074: UndefinedMetricWarning: F-score is ill-defined and being set to 0.0 due to no predicted samples.\n",
      "  'precision', 'predicted', average, warn_for)\n",
      "/Users/tammi/anaconda/lib/python3.5/site-packages/sklearn/metrics/classification.py:1074: UndefinedMetricWarning: F-score is ill-defined and being set to 0.0 due to no predicted samples.\n",
      "  'precision', 'predicted', average, warn_for)\n",
      "/Users/tammi/anaconda/lib/python3.5/site-packages/sklearn/metrics/classification.py:1074: UndefinedMetricWarning: F-score is ill-defined and being set to 0.0 due to no predicted samples.\n",
      "  'precision', 'predicted', average, warn_for)\n",
      "/Users/tammi/anaconda/lib/python3.5/site-packages/sklearn/metrics/classification.py:1074: UndefinedMetricWarning: F-score is ill-defined and being set to 0.0 due to no predicted samples.\n",
      "  'precision', 'predicted', average, warn_for)\n",
      "/Users/tammi/anaconda/lib/python3.5/site-packages/sklearn/metrics/classification.py:1074: UndefinedMetricWarning: F-score is ill-defined and being set to 0.0 due to no predicted samples.\n",
      "  'precision', 'predicted', average, warn_for)\n",
      "/Users/tammi/anaconda/lib/python3.5/site-packages/sklearn/metrics/classification.py:1074: UndefinedMetricWarning: F-score is ill-defined and being set to 0.0 due to no predicted samples.\n",
      "  'precision', 'predicted', average, warn_for)\n",
      "/Users/tammi/anaconda/lib/python3.5/site-packages/sklearn/metrics/classification.py:1074: UndefinedMetricWarning: F-score is ill-defined and being set to 0.0 due to no predicted samples.\n",
      "  'precision', 'predicted', average, warn_for)\n",
      "/Users/tammi/anaconda/lib/python3.5/site-packages/sklearn/metrics/classification.py:1074: UndefinedMetricWarning: F-score is ill-defined and being set to 0.0 due to no predicted samples.\n",
      "  'precision', 'predicted', average, warn_for)\n",
      "/Users/tammi/anaconda/lib/python3.5/site-packages/sklearn/metrics/classification.py:1074: UndefinedMetricWarning: F-score is ill-defined and being set to 0.0 due to no predicted samples.\n",
      "  'precision', 'predicted', average, warn_for)\n"
     ]
    }
   ],
   "source": []
  },
  {
   "cell_type": "code",
   "execution_count": null,
   "metadata": {
    "collapsed": true
   },
   "outputs": [],
   "source": []
  },
  {
   "cell_type": "code",
   "execution_count": null,
   "metadata": {
    "collapsed": true
   },
   "outputs": [],
   "source": []
  }
 ],
 "metadata": {
  "anaconda-cloud": {},
  "kernelspec": {
   "display_name": "Python 3",
   "language": "python",
   "name": "python3"
  },
  "language_info": {
   "codemirror_mode": {
    "name": "ipython",
    "version": 3
   },
   "file_extension": ".py",
   "mimetype": "text/x-python",
   "name": "python",
   "nbconvert_exporter": "python",
   "pygments_lexer": "ipython3",
   "version": "3.5.2"
  }
 },
 "nbformat": 4,
 "nbformat_minor": 1
}
