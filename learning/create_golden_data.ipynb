{
 "cells": [
  {
   "cell_type": "code",
   "execution_count": null,
   "metadata": {
    "collapsed": true
   },
   "outputs": [],
   "source": [
    "import pandas as pd\n",
    "import py_stringmatching as sm\n",
    "import math\n",
    "import matplotlib.pyplot as plt\n",
    "import numpy as np\n",
    "from matplotlib import style\n",
    "from sklearn.model_selection import train_test_split\n",
    "import re\n",
    "import operator\n",
    "style.use('ggplot')\n",
    "\n",
    "# read in csv as dataframe\n",
    "c = pd.read_csv(\"../blocking/candidate_set.csv\", encoding=\"ISO-8859-1\", index_col='_id')\n",
    "\n",
    "c.head()"
   ]
  },
  {
   "cell_type": "code",
   "execution_count": null,
   "metadata": {
    "collapsed": true
   },
   "outputs": [],
   "source": []
  },
  {
   "cell_type": "code",
   "execution_count": null,
   "metadata": {
    "collapsed": true
   },
   "outputs": [],
   "source": [
    "matches = 0\n",
    "nonmatches = 0;\n",
    "\n",
    "gold = None\n",
    "DS = None\n",
    "\n",
    "while matches < 50:\n",
    "    label = train_test_split(c, train_size=0.1039, test_size=0.8961)\n",
    "    gold = label['train']\n",
    "    unlabeled = label['test']\n",
    "\n",
    "    #Automatically label the training data\n",
    "    labels = []\n",
    "    matches = 0;\n",
    "    nonmatches = 0;\n",
    "    for index, row in gold.iterrows():\n",
    "        if row['rtable_scientific_name'].strip().lower() == row['ltable_scientific_name'].strip().lower():\n",
    "            labels.append(1)\n",
    "            matches = matches + 1\n",
    "        else:\n",
    "            labels.append(0)\n",
    "            nonmatches = nonmatches + 1\n",
    "\n",
    "gold['label'] = labels\n",
    "print('number of matches in training set:', matches)\n",
    "print('number of nonmatches in training set:', nonmatches)"
   ]
  },
  {
   "cell_type": "code",
   "execution_count": null,
   "metadata": {
    "collapsed": true
   },
   "outputs": [],
   "source": [
    "gold.to_csv('./gold.csv')\n",
    "unlabeled.to_csv('./unlabeled.csv')"
   ]
  },
  {
   "cell_type": "code",
   "execution_count": null,
   "metadata": {
    "collapsed": true
   },
   "outputs": [],
   "source": [
    "# remove unnecessary features\n",
    "# write out gold and unlabeled csvs with only selected features for matcher\n",
    "\n",
    "cols_to_keep = ['country_count_sim', \n",
    "                'status_match', \n",
    "                'country_overlap', \n",
    "                'name_name_jac_dlm_dc0_dlm_dc0', \n",
    "                'name_name_jac_qgm_3_qgm_3']\n",
    "\n",
    "gold_reduced = gold[cols_to_keep + ['labels']] \n",
    "unlabeled_reduced = unlabeled[cols_to_keep]"
   ]
  },
  {
   "cell_type": "code",
   "execution_count": null,
   "metadata": {
    "collapsed": true
   },
   "outputs": [],
   "source": [
    "gold_reduced.to_csv('./gold_reduced.csv')\n",
    "unlabeled_reduced.to_csv('./unlabeled_reduced.csv')"
   ]
  },
  {
   "cell_type": "code",
   "execution_count": null,
   "metadata": {
    "collapsed": true
   },
   "outputs": [],
   "source": [
    "#using features for matcher\n",
    "test_train = train_test_split(gold, train_size=0.7, test_size=0.3)\n",
    "train = test_train['train']\n",
    "test = test_train['test']\n",
    "len(train)\n",
    "\n",
    "train_reduced = train[cols_to_keep + ['labels']] \n",
    "test_reduced = test[cols_to_keep + ['labels']]"
   ]
  },
  {
   "cell_type": "code",
   "execution_count": null,
   "metadata": {
    "collapsed": true
   },
   "outputs": [],
   "source": [
    "train.to_csv('./train.csv')\n",
    "test.to_csv('./test.csv')\n",
    "train_reduced.to_csv('./train_reduced.csv')\n",
    "test_reduced.to_csv('./test_reduced.csv')"
   ]
  }
 ],
 "metadata": {
  "anaconda-cloud": {},
  "kernelspec": {
   "display_name": "Python [default]",
   "language": "python",
   "name": "python3"
  },
  "language_info": {
   "codemirror_mode": {
    "name": "ipython",
    "version": 3
   },
   "file_extension": ".py",
   "mimetype": "text/x-python",
   "name": "python",
   "nbconvert_exporter": "python",
   "pygments_lexer": "ipython3",
   "version": "3.5.2"
  }
 },
 "nbformat": 4,
 "nbformat_minor": 1
}
