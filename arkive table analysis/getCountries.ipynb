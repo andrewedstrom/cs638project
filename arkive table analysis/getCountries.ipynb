{
 "cells": [
  {
   "cell_type": "code",
   "execution_count": 2,
   "metadata": {
    "collapsed": false
   },
   "outputs": [
    {
     "name": "stderr",
     "output_type": "stream",
     "text": [
      "Metadata file is not present in the given path; proceeding to read the csv file.\n",
      "Metadata file is not present in the given path; proceeding to read the csv file.\n",
      "c:\\users\\aparn\\anaconda\\envs\\my_first_env\\lib\\site-packages\\pandas\\core\\frame.py:2816: SettingWithCopyWarning: \n",
      "A value is trying to be set on a copy of a slice from a DataFrame\n",
      "\n",
      "See the caveats in the documentation: http://pandas.pydata.org/pandas-docs/stable/indexing.html#indexing-view-versus-copy\n",
      "  **kwargs)\n"
     ]
    },
    {
     "data": {
      "text/html": [
       "<div>\n",
       "<table border=\"1\" class=\"dataframe\">\n",
       "  <thead>\n",
       "    <tr style=\"text-align: right;\">\n",
       "      <th></th>\n",
       "      <th>id</th>\n",
       "      <th>Country</th>\n",
       "    </tr>\n",
       "  </thead>\n",
       "  <tbody>\n",
       "    <tr>\n",
       "      <th>0</th>\n",
       "      <td>\\nAD</td>\n",
       "      <td>Andorra</td>\n",
       "    </tr>\n",
       "    <tr>\n",
       "      <th>1</th>\n",
       "      <td>\\nAE</td>\n",
       "      <td>United Arab Emirates</td>\n",
       "    </tr>\n",
       "    <tr>\n",
       "      <th>2</th>\n",
       "      <td>\\nAF</td>\n",
       "      <td>Afghanistan</td>\n",
       "    </tr>\n",
       "    <tr>\n",
       "      <th>3</th>\n",
       "      <td>\\nAG</td>\n",
       "      <td>Antigua and Barbuda</td>\n",
       "    </tr>\n",
       "    <tr>\n",
       "      <th>4</th>\n",
       "      <td>\\nAI</td>\n",
       "      <td>Anguilla</td>\n",
       "    </tr>\n",
       "  </tbody>\n",
       "</table>\n",
       "</div>"
      ],
      "text/plain": [
       "     id               Country\n",
       "0  \\nAD               Andorra\n",
       "1  \\nAE  United Arab Emirates\n",
       "2  \\nAF           Afghanistan\n",
       "3  \\nAG   Antigua and Barbuda\n",
       "4  \\nAI              Anguilla"
      ]
     },
     "execution_count": 2,
     "metadata": {},
     "output_type": "execute_result"
    }
   ],
   "source": [
    "#Read in Redlist\n",
    "\n",
    "import pandas as pd\n",
    "import py_entitymatching as em\n",
    "import math\n",
    "import matplotlib.pyplot as plt\n",
    "import numpy as np\n",
    "from matplotlib import style\n",
    "import re\n",
    "style.use('ggplot')\n",
    "\n",
    "# Read in csv as dataframe\n",
    "CI = em.read_csv_metadata('countryInfo.txt', sep='\\t', lineterminator='\\r')\n",
    "ar = em.read_csv_metadata(\"../finalArkives.csv\", encoding=\"ISO-8859-1\", key=\"id\")\n",
    "CI1 = CI[['#ISO','Country']]\n",
    "CI1.rename(columns={'#ISO':'id'}, inplace=True)\n",
    "CI1.head()\n"
   ]
  },
  {
   "cell_type": "code",
   "execution_count": null,
   "metadata": {
    "collapsed": false
   },
   "outputs": [],
   "source": [
    "names = []\n",
    "for index, row in CI1.iterrows():\n",
    "    name = str(row['id'])\n",
    "    name = name.replace('\\n','')\n",
    "    names.append(name)\n",
    "    \n",
    "CI1['id'] = names\n",
    "\n",
    "CI1 = CI1.set_index(['id'])\n",
    "CI1.head()\n",
    "    "
   ]
  },
  {
   "cell_type": "code",
   "execution_count": null,
   "metadata": {
    "collapsed": false,
    "scrolled": false
   },
   "outputs": [],
   "source": [
    "#Read in ARKIVE\n",
    "# Read in csv as dataframe\n",
    "#CI1.loc[-1] = ['UK', 'United Kingdom']\n",
    "# glance at first few rows\n",
    "CI1.head()"
   ]
  },
  {
   "cell_type": "code",
   "execution_count": null,
   "metadata": {
    "collapsed": false
   },
   "outputs": [],
   "source": [
    "ar.columns\n"
   ]
  },
  {
   "cell_type": "raw",
   "metadata": {},
   "source": []
  },
  {
   "cell_type": "code",
   "execution_count": null,
   "metadata": {
    "collapsed": false
   },
   "outputs": [],
   "source": [
    "# Concatenate nickname and common_name fields in arkive\n",
    "# author: @andrewedstrom\n",
    "\n",
    "# remove parenthesis contents\n",
    "countries = []\n",
    "for index, row in ar.iterrows():\n",
    "    nickname = str(row[' countries']) #look here if errors start happening\n",
    "    country =  str(re.findall(r\"'(.*?)'\", nickname, re.DOTALL))\n",
    "    #print(country)\n",
    "    country = country.replace(',', '')\n",
    "    countries.append(country)\n",
    "ar['country'] = countries\n",
    "ar.columns\n",
    "#ar.head()"
   ]
  },
  {
   "cell_type": "code",
   "execution_count": null,
   "metadata": {
    "collapsed": false
   },
   "outputs": [],
   "source": [
    "#ar.drop([' countries'], axis = 1, inplace=True)\n",
    "ar.columns"
   ]
  },
  {
   "cell_type": "code",
   "execution_count": null,
   "metadata": {
    "collapsed": false
   },
   "outputs": [],
   "source": [
    "ar.head()"
   ]
  },
  {
   "cell_type": "code",
   "execution_count": null,
   "metadata": {
    "collapsed": false,
    "scrolled": true
   },
   "outputs": [],
   "source": [
    "# Remove parentheticals from arkive genus\n",
    "# author: @andrewedstrom\n",
    "# Next, actually remove scientific name and replace with common name(s)\n",
    "#ar = arBeforeRemovingNames # in case script now run completely in order\n",
    "#ar = ar[ar.animalName.str.contains(\"\\(\") == True] # update df to contain only tuples that contain common/nick names\n",
    "error = 0 # make sure there's no wonky cases\n",
    "\n",
    "# remove parenthesis contents\n",
    "finalC = []\n",
    "for index, row in ar.iterrows():\n",
    "    list_country = str(row['country'])\n",
    "    country = re.findall(r\"'(.*?)'\", list_country, re.DOTALL)\n",
    "    cout = []\n",
    "    for n in country:\n",
    "        ct = str(CI1.loc[n])\n",
    "        ct = ct.split('Name')[0]\n",
    "        ct = ct.replace('Country','')\n",
    "        ct = ct.lstrip().rstrip()\n",
    "        cout.append(ct)\n",
    "    cout = str(cout)\n",
    "    finalC.append(cout)\n",
    "ar['countries'] = finalC"
   ]
  },
  {
   "cell_type": "code",
   "execution_count": null,
   "metadata": {
    "collapsed": false
   },
   "outputs": [],
   "source": [
    "#ar.head()\n",
    "#ar.drop(['country'], axis = 1, inplace=True)\n",
    "#ar = em.read_csv_metadata(\"countryKeys.csv\", encoding=\"ISO-8859-1\", key=\"id\")\n",
    "#ar.to_csv('finalArkives.csv')\n",
    "ar.head()"
   ]
  },
  {
   "cell_type": "code",
   "execution_count": null,
   "metadata": {
    "collapsed": false
   },
   "outputs": [],
   "source": []
  },
  {
   "cell_type": "code",
   "execution_count": null,
   "metadata": {
    "collapsed": false,
    "scrolled": true
   },
   "outputs": [],
   "source": []
  },
  {
   "cell_type": "code",
   "execution_count": null,
   "metadata": {
    "collapsed": false
   },
   "outputs": [],
   "source": []
  },
  {
   "cell_type": "code",
   "execution_count": null,
   "metadata": {
    "collapsed": false
   },
   "outputs": [],
   "source": [
    "\n"
   ]
  },
  {
   "cell_type": "code",
   "execution_count": null,
   "metadata": {
    "collapsed": false
   },
   "outputs": [],
   "source": []
  },
  {
   "cell_type": "code",
   "execution_count": null,
   "metadata": {
    "collapsed": false
   },
   "outputs": [],
   "source": [
    "\n"
   ]
  },
  {
   "cell_type": "code",
   "execution_count": null,
   "metadata": {
    "collapsed": false,
    "scrolled": false
   },
   "outputs": [],
   "source": []
  },
  {
   "cell_type": "code",
   "execution_count": null,
   "metadata": {
    "collapsed": false
   },
   "outputs": [],
   "source": []
  },
  {
   "cell_type": "code",
   "execution_count": null,
   "metadata": {
    "collapsed": false
   },
   "outputs": [],
   "source": []
  },
  {
   "cell_type": "code",
   "execution_count": null,
   "metadata": {
    "collapsed": true
   },
   "outputs": [],
   "source": []
  },
  {
   "cell_type": "code",
   "execution_count": null,
   "metadata": {
    "collapsed": false
   },
   "outputs": [],
   "source": []
  },
  {
   "cell_type": "code",
   "execution_count": null,
   "metadata": {
    "collapsed": true
   },
   "outputs": [],
   "source": []
  }
 ],
 "metadata": {
  "anaconda-cloud": {},
  "kernelspec": {
   "display_name": "Python 3",
   "language": "python",
   "name": "python3"
  },
  "language_info": {
   "codemirror_mode": {
    "name": "ipython",
    "version": 3
   },
   "file_extension": ".py",
   "mimetype": "text/x-python",
   "name": "python",
   "nbconvert_exporter": "python",
   "pygments_lexer": "ipython3",
   "version": "3.5.2"
  }
 },
 "nbformat": 4,
 "nbformat_minor": 1
}
