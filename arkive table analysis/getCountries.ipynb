{
 "cells": [
  {
   "cell_type": "code",
   "execution_count": 1,
   "metadata": {
    "collapsed": false
   },
   "outputs": [
    {
     "ename": "ImportError",
     "evalue": "No module named pandas",
     "output_type": "error",
     "traceback": [
      "\u001b[0;31m---------------------------------------------------------------------------\u001b[0m",
      "\u001b[0;31mImportError\u001b[0m                               Traceback (most recent call last)",
      "\u001b[0;32m<ipython-input-1-a766f90aefe7>\u001b[0m in \u001b[0;36m<module>\u001b[0;34m()\u001b[0m\n\u001b[1;32m      1\u001b[0m \u001b[1;31m#Read in Redlist\u001b[0m\u001b[1;33m\u001b[0m\u001b[1;33m\u001b[0m\u001b[0m\n\u001b[1;32m      2\u001b[0m \u001b[1;33m\u001b[0m\u001b[0m\n\u001b[0;32m----> 3\u001b[0;31m \u001b[1;32mimport\u001b[0m \u001b[0mpandas\u001b[0m \u001b[1;32mas\u001b[0m \u001b[0mpd\u001b[0m\u001b[1;33m\u001b[0m\u001b[0m\n\u001b[0m\u001b[1;32m      4\u001b[0m \u001b[1;32mimport\u001b[0m \u001b[0mpy_entitymatching\u001b[0m \u001b[1;32mas\u001b[0m \u001b[0mem\u001b[0m\u001b[1;33m\u001b[0m\u001b[0m\n\u001b[1;32m      5\u001b[0m \u001b[1;32mimport\u001b[0m \u001b[0mmath\u001b[0m\u001b[1;33m\u001b[0m\u001b[0m\n",
      "\u001b[0;31mImportError\u001b[0m: No module named pandas"
     ]
    }
   ],
   "source": [
    "#Read in Redlist\n",
    "\n",
    "import pandas as pd\n",
    "import py_entitymatching as em\n",
    "import math\n",
    "import matplotlib.pyplot as plt\n",
    "import numpy as np\n",
    "from matplotlib import style\n",
    "import re\n",
    "style.use('ggplot')\n",
    "\n",
    "# Read in csv as dataframe\n",
    "CI = pd.read_csv('countryInfo.txt', sep='\\t', lineterminator='\\r')\n",
    "ar = em.read_csv_metadata(\"../finalArkives.csv\", encoding=\"ISO-8859-1\", key=\"id\")\n",
    "CI1 = CI[['#ISO','Country']]\n",
    "CI1.rename(columns={'#ISO':'id'}, inplace=True)\n",
    "CI1.head()\n"
   ]
  },
  {
   "cell_type": "code",
   "execution_count": null,
   "metadata": {
    "collapsed": false
   },
   "outputs": [],
   "source": [
    "names = []\n",
    "for index, row in CI1.iterrows():\n",
    "    name = str(row['id'])\n",
    "    name = name.replace('\\n','')\n",
    "    names.append(name)\n",
    "    \n",
    "CI1['id'] = names\n",
    "\n",
    "CI1 = CI1.set_index(['id'])\n",
    "CI1.head()\n",
    "    "
   ]
  },
  {
   "cell_type": "code",
   "execution_count": null,
   "metadata": {
    "collapsed": false,
    "scrolled": false
   },
   "outputs": [],
   "source": [
    "#Read in ARKIVE\n",
    "# Read in csv as dataframe\n",
    "#CI1.loc[-1] = ['UK', 'United Kingdom']\n",
    "# glance at first few rows\n",
    "CI1.head()"
   ]
  },
  {
   "cell_type": "code",
   "execution_count": null,
   "metadata": {
    "collapsed": false
   },
   "outputs": [],
   "source": [
    "ar.columns\n"
   ]
  },
  {
   "cell_type": "raw",
   "metadata": {},
   "source": []
  },
  {
   "cell_type": "code",
   "execution_count": null,
   "metadata": {
    "collapsed": false
   },
   "outputs": [],
   "source": [
    "# Concatenate nickname and common_name fields in arkive\n",
    "# author: @andrewedstrom\n",
    "\n",
    "# remove parenthesis contents\n",
    "countries = []\n",
    "for index, row in ar.iterrows():\n",
    "    nickname = str(row[' countries']) #look here if errors start happening\n",
    "    country =  str(re.findall(r\"'(.*?)'\", nickname, re.DOTALL))\n",
    "    #print(country)\n",
    "    country = country.replace(',', '')\n",
    "    countries.append(country)\n",
    "ar['country'] = countries\n",
    "ar.columns\n",
    "#ar.head()"
   ]
  },
  {
   "cell_type": "code",
   "execution_count": null,
   "metadata": {
    "collapsed": false
   },
   "outputs": [],
   "source": [
    "#ar.drop([' countries'], axis = 1, inplace=True)\n",
    "ar.columns"
   ]
  },
  {
   "cell_type": "code",
   "execution_count": null,
   "metadata": {
    "collapsed": false
   },
   "outputs": [],
   "source": [
    "ar.head()"
   ]
  },
  {
   "cell_type": "code",
   "execution_count": null,
   "metadata": {
    "collapsed": false,
    "scrolled": true
   },
   "outputs": [],
   "source": [
    "# Remove parentheticals from arkive genus\n",
    "# author: @andrewedstrom\n",
    "# Next, actually remove scientific name and replace with common name(s)\n",
    "#ar = arBeforeRemovingNames # in case script now run completely in order\n",
    "#ar = ar[ar.animalName.str.contains(\"\\(\") == True] # update df to contain only tuples that contain common/nick names\n",
    "error = 0 # make sure there's no wonky cases\n",
    "\n",
    "# remove parenthesis contents\n",
    "finalC = []\n",
    "for index, row in ar.iterrows():\n",
    "    list_country = str(row['country'])\n",
    "    country = re.findall(r\"'(.*?)'\", list_country, re.DOTALL)\n",
    "    cout = []\n",
    "    for n in country:\n",
    "        ct = str(CI1.loc[n])\n",
    "        ct = ct.split('Name')[0]\n",
    "        ct = ct.replace('Country','')\n",
    "        ct = ct.lstrip().rstrip()\n",
    "        cout.append(ct)\n",
    "    cout = str(cout)\n",
    "    finalC.append(cout)\n",
    "ar['countries'] = finalC"
   ]
  },
  {
   "cell_type": "code",
   "execution_count": null,
   "metadata": {
    "collapsed": false
   },
   "outputs": [],
   "source": [
    "#ar.head()\n",
    "#ar.drop(['country'], axis = 1, inplace=True)\n",
    "#ar = em.read_csv_metadata(\"countryKeys.csv\", encoding=\"ISO-8859-1\", key=\"id\")\n",
    "#ar.to_csv('finalArkives.csv')\n",
    "ar.head()"
   ]
  },
  {
   "cell_type": "code",
   "execution_count": null,
   "metadata": {
    "collapsed": false
   },
   "outputs": [],
   "source": []
  },
  {
   "cell_type": "code",
   "execution_count": null,
   "metadata": {
    "collapsed": false,
    "scrolled": true
   },
   "outputs": [],
   "source": []
  },
  {
   "cell_type": "code",
   "execution_count": null,
   "metadata": {
    "collapsed": false
   },
   "outputs": [],
   "source": []
  },
  {
   "cell_type": "code",
   "execution_count": null,
   "metadata": {
    "collapsed": false
   },
   "outputs": [],
   "source": [
    "\n"
   ]
  },
  {
   "cell_type": "code",
   "execution_count": null,
   "metadata": {
    "collapsed": false
   },
   "outputs": [],
   "source": []
  },
  {
   "cell_type": "code",
   "execution_count": null,
   "metadata": {
    "collapsed": false
   },
   "outputs": [],
   "source": [
    "\n"
   ]
  },
  {
   "cell_type": "code",
   "execution_count": null,
   "metadata": {
    "collapsed": false,
    "scrolled": false
   },
   "outputs": [],
   "source": []
  },
  {
   "cell_type": "code",
   "execution_count": null,
   "metadata": {
    "collapsed": false
   },
   "outputs": [],
   "source": []
  },
  {
   "cell_type": "code",
   "execution_count": null,
   "metadata": {
    "collapsed": false
   },
   "outputs": [],
   "source": []
  },
  {
   "cell_type": "code",
   "execution_count": null,
   "metadata": {
    "collapsed": true
   },
   "outputs": [],
   "source": []
  },
  {
   "cell_type": "code",
   "execution_count": null,
   "metadata": {
    "collapsed": false
   },
   "outputs": [],
   "source": []
  },
  {
   "cell_type": "code",
   "execution_count": null,
   "metadata": {
    "collapsed": true
   },
   "outputs": [],
   "source": []
  }
 ],
 "metadata": {
  "anaconda-cloud": {},
  "kernelspec": {
   "display_name": "Python 2",
   "language": "python",
   "name": "python2"
  },
  "language_info": {
   "codemirror_mode": {
    "name": "ipython",
    "version": 2
   },
   "file_extension": ".py",
   "mimetype": "text/x-python",
   "name": "python",
   "nbconvert_exporter": "python",
   "pygments_lexer": "ipython2",
   "version": "2.7.12"
  }
 },
 "nbformat": 4,
 "nbformat_minor": 1
}
