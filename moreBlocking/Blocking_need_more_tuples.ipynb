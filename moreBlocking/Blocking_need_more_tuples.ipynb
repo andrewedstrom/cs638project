{
 "cells": [
  {
   "cell_type": "code",
   "execution_count": 16,
   "metadata": {
    "collapsed": false
   },
   "outputs": [
    {
     "name": "stderr",
     "output_type": "stream",
     "text": [
      "Metadata file is not present in the given path; proceeding to read the csv file.\n",
      "Metadata file is not present in the given path; proceeding to read the csv file.\n"
     ]
    }
   ],
   "source": [
    "#Read in Redlist\n",
    "\n",
    "import pandas as pd\n",
    "import py_entitymatching as em\n",
    "import math\n",
    "import matplotlib.pyplot as plt\n",
    "import numpy as np\n",
    "from matplotlib import style\n",
    "import re\n",
    "style.use('ggplot')\n",
    "\n",
    "# Read in csv as dataframe\n",
    "rl = em.read_csv_metadata(\"../finalRedlist.csv\", encoding=\"ISO-8859-1\", key='id')\n",
    "# glance at first few rows\n",
    "\n",
    "ar = em.read_csv_metadata(\"../finalArkives.csv\", encoding=\"ISO-8859-1\", key='id')\n"
   ]
  },
  {
   "cell_type": "code",
   "execution_count": 17,
   "metadata": {
    "collapsed": false
   },
   "outputs": [],
   "source": [
    "rl['block'] = 'yes'"
   ]
  },
  {
   "cell_type": "code",
   "execution_count": 18,
   "metadata": {
    "collapsed": false,
    "scrolled": false
   },
   "outputs": [],
   "source": [
    "ar['block'] = 'yes'"
   ]
  },
  {
   "cell_type": "code",
   "execution_count": 19,
   "metadata": {
    "collapsed": false
   },
   "outputs": [
    {
     "data": {
      "text/html": [
       "<div>\n",
       "<table border=\"1\" class=\"dataframe\">\n",
       "  <thead>\n",
       "    <tr style=\"text-align: right;\">\n",
       "      <th></th>\n",
       "      <th>id</th>\n",
       "      <th>name</th>\n",
       "      <th>genus</th>\n",
       "      <th>family</th>\n",
       "      <th>ecology</th>\n",
       "      <th>countries</th>\n",
       "      <th>threat_paragraph</th>\n",
       "      <th>conservation_paragraph</th>\n",
       "      <th>pop_trend</th>\n",
       "      <th>status</th>\n",
       "      <th>country_count</th>\n",
       "      <th>block</th>\n",
       "    </tr>\n",
       "  </thead>\n",
       "  <tbody>\n",
       "    <tr>\n",
       "      <th>0</th>\n",
       "      <td>0</td>\n",
       "      <td>ochlockonee moccasinshell</td>\n",
       "      <td>Medionidus</td>\n",
       "      <td>Unionidae</td>\n",
       "      <td>Freshwater</td>\n",
       "      <td>United States (Florida, Georgia);</td>\n",
       "      <td>NaN</td>\n",
       "      <td>NaN</td>\n",
       "      <td>NaN</td>\n",
       "      <td>\\n    Critically Endangered\\n\\n\\n    A1ce\\n\\n</td>\n",
       "      <td>1</td>\n",
       "      <td>yes</td>\n",
       "    </tr>\n",
       "    <tr>\n",
       "      <th>1</th>\n",
       "      <td>1</td>\n",
       "      <td>nelson's spiny pocket mouse</td>\n",
       "      <td>Heteromys</td>\n",
       "      <td>Heteromyidae</td>\n",
       "      <td>Terrestrial</td>\n",
       "      <td>Guatemala; Mexico (Chiapas);</td>\n",
       "      <td>\\n    The main threat to this species is the significant forest loss in its habitat. Habitat fra...</td>\n",
       "      <td>['\\n    This species occurs in a newly-named national park, Tacana, in Mexico.\\n\\n    \\n  ']</td>\n",
       "      <td>Decreasing</td>\n",
       "      <td>\\n    Endangered\\n\\n\\n    B1ab(i,ii,iii,v)\\n\\n</td>\n",
       "      <td>2</td>\n",
       "      <td>yes</td>\n",
       "    </tr>\n",
       "    <tr>\n",
       "      <th>2</th>\n",
       "      <td>2</td>\n",
       "      <td>comoro friar</td>\n",
       "      <td>Amauris</td>\n",
       "      <td>Nymphalidae</td>\n",
       "      <td>NaN</td>\n",
       "      <td>Comoros;</td>\n",
       "      <td>NaN</td>\n",
       "      <td>NaN</td>\n",
       "      <td>NaN</td>\n",
       "      <td>\\n    Endangered\\n\\n\\n    B1+2c, C2b\\n\\n</td>\n",
       "      <td>1</td>\n",
       "      <td>yes</td>\n",
       "    </tr>\n",
       "    <tr>\n",
       "      <th>3</th>\n",
       "      <td>3</td>\n",
       "      <td>atlantic halibut, halibut</td>\n",
       "      <td>Hippoglossus</td>\n",
       "      <td>Pleuronectidae</td>\n",
       "      <td>NaN</td>\n",
       "      <td>&lt;div&gt;Atlantic å_åÑåÐ northeast; Atlantic å_åÑåÐ northwest&lt;/div&gt;; Canada (Newfoundland I); Denmar...</td>\n",
       "      <td>NaN</td>\n",
       "      <td>NaN</td>\n",
       "      <td>NaN</td>\n",
       "      <td>\\n    Endangered\\n\\n\\n    A1d\\n\\n</td>\n",
       "      <td>15</td>\n",
       "      <td>yes</td>\n",
       "    </tr>\n",
       "    <tr>\n",
       "      <th>4</th>\n",
       "      <td>10</td>\n",
       "      <td>oktibbeha riverlet crayfish</td>\n",
       "      <td>Hobbseus</td>\n",
       "      <td>Cambaridae</td>\n",
       "      <td>Freshwater</td>\n",
       "      <td>United States (Mississippi);</td>\n",
       "      <td>\\n    This species is threatened by habitat degradation through residential and urban developmen...</td>\n",
       "      <td>['\\n', &lt;span style=\"font-style: italic;\"&gt;&lt;/span&gt;, 'This species has been given the Global Herita...</td>\n",
       "      <td>Unknown</td>\n",
       "      <td>\\n    Endangered\\n\\n\\n    B1ab(iii)\\n\\n</td>\n",
       "      <td>1</td>\n",
       "      <td>yes</td>\n",
       "    </tr>\n",
       "  </tbody>\n",
       "</table>\n",
       "</div>"
      ],
      "text/plain": [
       "   id                         name         genus          family      ecology  \\\n",
       "0   0    ochlockonee moccasinshell    Medionidus       Unionidae   Freshwater   \n",
       "1   1  nelson's spiny pocket mouse     Heteromys    Heteromyidae  Terrestrial   \n",
       "2   2                 comoro friar       Amauris     Nymphalidae          NaN   \n",
       "3   3    atlantic halibut, halibut  Hippoglossus  Pleuronectidae          NaN   \n",
       "4  10  oktibbeha riverlet crayfish      Hobbseus      Cambaridae   Freshwater   \n",
       "\n",
       "                                                                                             countries  \\\n",
       "0                                                                   United States (Florida, Georgia);    \n",
       "1                                                                        Guatemala; Mexico (Chiapas);    \n",
       "2                                                                                            Comoros;    \n",
       "3  <div>Atlantic å_åÑåÐ northeast; Atlantic å_åÑåÐ northwest</div>; Canada (Newfoundland I); Denmar...   \n",
       "4                                                                        United States (Mississippi);    \n",
       "\n",
       "                                                                                      threat_paragraph  \\\n",
       "0                                                                                                  NaN   \n",
       "1  \\n    The main threat to this species is the significant forest loss in its habitat. Habitat fra...   \n",
       "2                                                                                                  NaN   \n",
       "3                                                                                                  NaN   \n",
       "4  \\n    This species is threatened by habitat degradation through residential and urban developmen...   \n",
       "\n",
       "                                                                                conservation_paragraph  \\\n",
       "0                                                                                                  NaN   \n",
       "1         ['\\n    This species occurs in a newly-named national park, Tacana, in Mexico.\\n\\n    \\n  ']   \n",
       "2                                                                                                  NaN   \n",
       "3                                                                                                  NaN   \n",
       "4  ['\\n', <span style=\"font-style: italic;\"></span>, 'This species has been given the Global Herita...   \n",
       "\n",
       "    pop_trend                                              status  \\\n",
       "0         NaN   \\n    Critically Endangered\\n\\n\\n    A1ce\\n\\n       \n",
       "1  Decreasing  \\n    Endangered\\n\\n\\n    B1ab(i,ii,iii,v)\\n\\n       \n",
       "2         NaN        \\n    Endangered\\n\\n\\n    B1+2c, C2b\\n\\n       \n",
       "3         NaN               \\n    Endangered\\n\\n\\n    A1d\\n\\n       \n",
       "4     Unknown         \\n    Endangered\\n\\n\\n    B1ab(iii)\\n\\n       \n",
       "\n",
       "   country_count block  \n",
       "0              1   yes  \n",
       "1              2   yes  \n",
       "2              1   yes  \n",
       "3             15   yes  \n",
       "4              1   yes  "
      ]
     },
     "execution_count": 19,
     "metadata": {},
     "output_type": "execute_result"
    }
   ],
   "source": [
    "rl.head()"
   ]
  },
  {
   "cell_type": "code",
   "execution_count": 20,
   "metadata": {
    "collapsed": false
   },
   "outputs": [
    {
     "name": "stderr",
     "output_type": "stream",
     "text": [
      "0%                          100%\n",
      "[##############################] | ETA: 00:00:00\n",
      "Total time elapsed: 00:00:25\n"
     ]
    },
    {
     "data": {
      "text/plain": [
       "3031273"
      ]
     },
     "execution_count": 20,
     "metadata": {},
     "output_type": "execute_result"
    }
   ],
   "source": [
    "#Block on bogus attribute so that we can actually do\n",
    "#blocking on genus\n",
    "ob = em.OverlapBlocker()\n",
    "C0 = ob.block_tables(rl, ar,'block', 'block', \n",
    "                     l_output_attrs=list(rl.columns.values), \n",
    "                     r_output_attrs=list(ar.columns.values))\n",
    "len(C0)"
   ]
  },
  {
   "cell_type": "code",
   "execution_count": 21,
   "metadata": {
    "collapsed": false
   },
   "outputs": [
    {
     "name": "stderr",
     "output_type": "stream",
     "text": [
      "0%                          100%\n",
      "[##############################] | ETA: 00:00:00\n",
      "Total time elapsed: 00:00:51\n"
     ]
    }
   ],
   "source": [
    "C1 = ob.block_candset(C0, 'genus', 'genus')"
   ]
  },
  {
   "cell_type": "code",
   "execution_count": 22,
   "metadata": {
    "collapsed": false,
    "scrolled": true
   },
   "outputs": [
    {
     "data": {
      "text/plain": [
       "1757"
      ]
     },
     "execution_count": 22,
     "metadata": {},
     "output_type": "execute_result"
    }
   ],
   "source": [
    "len(C1)\n",
    "\n",
    "\n",
    "#matched over just genus"
   ]
  },
  {
   "cell_type": "code",
   "execution_count": null,
   "metadata": {
    "collapsed": false
   },
   "outputs": [],
   "source": []
  },
  {
   "cell_type": "code",
   "execution_count": 26,
   "metadata": {
    "collapsed": false,
    "scrolled": true
   },
   "outputs": [
    {
     "name": "stderr",
     "output_type": "stream",
     "text": [
      "File already exists at ./larger_candidate_set.csv; Overwriting it\n",
      "Metadata file already exists at ./larger_candidate_set.metadata. Overwriting it\n"
     ]
    },
    {
     "data": {
      "text/plain": [
       "True"
      ]
     },
     "execution_count": 26,
     "metadata": {},
     "output_type": "execute_result"
    }
   ],
   "source": [
    "em.to_csv_metadata(C1, './larger_candidate_set.csv')"
   ]
  },
  {
   "cell_type": "raw",
   "metadata": {
    "collapsed": false
   },
   "source": []
  },
  {
   "cell_type": "code",
   "execution_count": null,
   "metadata": {
    "collapsed": false
   },
   "outputs": [],
   "source": []
  },
  {
   "cell_type": "code",
   "execution_count": null,
   "metadata": {
    "collapsed": false,
    "scrolled": true
   },
   "outputs": [],
   "source": []
  },
  {
   "cell_type": "code",
   "execution_count": null,
   "metadata": {
    "collapsed": false
   },
   "outputs": [],
   "source": []
  },
  {
   "cell_type": "code",
   "execution_count": null,
   "metadata": {
    "collapsed": false
   },
   "outputs": [],
   "source": [
    "\n"
   ]
  },
  {
   "cell_type": "code",
   "execution_count": null,
   "metadata": {
    "collapsed": false
   },
   "outputs": [],
   "source": []
  },
  {
   "cell_type": "code",
   "execution_count": null,
   "metadata": {
    "collapsed": false
   },
   "outputs": [],
   "source": []
  },
  {
   "cell_type": "code",
   "execution_count": null,
   "metadata": {
    "collapsed": false,
    "scrolled": false
   },
   "outputs": [],
   "source": []
  },
  {
   "cell_type": "code",
   "execution_count": null,
   "metadata": {
    "collapsed": false
   },
   "outputs": [],
   "source": []
  },
  {
   "cell_type": "code",
   "execution_count": null,
   "metadata": {
    "collapsed": false
   },
   "outputs": [],
   "source": []
  },
  {
   "cell_type": "code",
   "execution_count": null,
   "metadata": {
    "collapsed": true
   },
   "outputs": [],
   "source": []
  },
  {
   "cell_type": "code",
   "execution_count": null,
   "metadata": {
    "collapsed": false
   },
   "outputs": [],
   "source": []
  },
  {
   "cell_type": "code",
   "execution_count": null,
   "metadata": {
    "collapsed": true
   },
   "outputs": [],
   "source": []
  }
 ],
 "metadata": {
  "anaconda-cloud": {},
  "kernelspec": {
   "display_name": "Python [default]",
   "language": "python",
   "name": "python3"
  },
  "language_info": {
   "codemirror_mode": {
    "name": "ipython",
    "version": 3
   },
   "file_extension": ".py",
   "mimetype": "text/x-python",
   "name": "python",
   "nbconvert_exporter": "python",
   "pygments_lexer": "ipython3",
   "version": "3.5.2"
  }
 },
 "nbformat": 4,
 "nbformat_minor": 1
}
