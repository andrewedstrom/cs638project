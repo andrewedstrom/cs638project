{
 "cells": [
  {
   "cell_type": "code",
   "execution_count": 1,
   "metadata": {
    "collapsed": true
   },
   "outputs": [],
   "source": [
    "#Ignore scikit learn deprication warnings\n",
    "def warn(*args, **kwargs):\n",
    "    pass\n",
    "import warnings\n",
    "warnings.warn = warn\n"
   ]
  },
  {
   "cell_type": "code",
   "execution_count": 2,
   "metadata": {
    "collapsed": false
   },
   "outputs": [
    {
     "name": "stdout",
     "output_type": "stream",
     "text": [
      "C:\\Users\\aparn\\Desktop\\cs638project\\analysis\n"
     ]
    }
   ],
   "source": [
    "import os\n",
    "print(os.getcwd())\n",
    "#os.chdir('../blocking/')\n",
    "import pandas as pd\n",
    "import py_entitymatching as em\n",
    "import math\n",
    "import matplotlib.pyplot as plt\n",
    "import numpy as np\n",
    "from matplotlib import style\n",
    "import re\n",
    "from numpy import genfromtxt"
   ]
  },
  {
   "cell_type": "code",
   "execution_count": 3,
   "metadata": {
    "collapsed": false
   },
   "outputs": [],
   "source": [
    "from sklearn.cross_validation import cross_val_score\n",
    "from sklearn.linear_model import LogisticRegression\n",
    "from sklearn.tree import DecisionTreeClassifier\n",
    "from sklearn.ensemble import RandomForestClassifier\n",
    "from sklearn.svm import *\n",
    "from sklearn.naive_bayes import GaussianNB\n",
    "from sklearn.neighbors import KNeighborsClassifier\n",
    "from sklearn.neural_network import MLPClassifier\n",
    "from sklearn.metrics import *"
   ]
  },
  {
   "cell_type": "code",
   "execution_count": 4,
   "metadata": {
    "collapsed": true
   },
   "outputs": [],
   "source": [
    "t = pd.read_csv(\"../learning/test.csv\", encoding=\"ISO-8859-1\", index_col='_id')\n",
    "#Automatically label the testing data\n",
    "matches = 0;\n",
    "nonmatches = 0;\n",
    "labels = []\n",
    "for index, row in t.iterrows():\n",
    "    if row['rtable_scientific_name'].strip().lower() == row['ltable_scientific_name'].strip().lower():\n",
    "        labels.append(1)\n",
    "        matches = matches + 1\n",
    "    else:\n",
    "        labels.append(0)\n",
    "        nonmatches = nonmatches + 1\n",
    "        \n",
    "t['label'] = labels\n",
    "\n",
    "#cols_to_keep version 2\n",
    "cols_to_keep = ['name_name_jac_qgm_3_qgm_3',\n",
    "                'name_name_jac_dlm_dc0_dlm_dc0', \n",
    "                'countries_countries_jac_qgm_3_qgm_3',\n",
    "                'countries_countries_cos_dlm_dc0_dlm_dc0',\n",
    "                'countries_countries_jac_dlm_dc0_dlm_dc0', \n",
    "                'countries_countries_mel',\n",
    "                'countries_countries_lev_dist', \n",
    "                'countries_countries_lev_sim',\n",
    "                'countries_countries_nmw', \n",
    "                'countries_countries_sw',\n",
    "                'country_count_country_count_exm', \n",
    "                'country_count_country_count_anm',\n",
    "                'country_count_country_count_lev_dist',\n",
    "                'country_count_country_count_lev_sim', \n",
    "                'status_match',\n",
    "                'country_overlap', \n",
    "                'country_count_sim']\n",
    "\n",
    "tr = t[cols_to_keep + ['label']]\n",
    "tr.to_csv('../learning/test_reduced.csv')"
   ]
  },
  {
   "cell_type": "code",
   "execution_count": 5,
   "metadata": {
    "collapsed": false
   },
   "outputs": [
    {
     "name": "stdout",
     "output_type": "stream",
     "text": [
      "train (279, 19)\n",
      "test (120, 19)\n",
      "unlabeled (2179, 18)\n",
      "test (59, 19)\n",
      "[  9.06326700e+06   1.79487179e-01   3.33333333e-01   0.00000000e+00\n",
      "   0.00000000e+00   0.00000000e+00   3.53131313e-01   2.30000000e+01\n",
      "   8.00000000e-02  -1.20000000e+01   2.00000000e+00   0.00000000e+00\n",
      "   5.00000000e-01   1.00000000e+00   0.00000000e+00   0.00000000e+00\n",
      "   0.00000000e+00   1.00000000e+00   0.00000000e+00]\n",
      "(59,)\n",
      "0.0\n",
      "(59, 17)\n",
      "[  0.17948718   0.33333333   0.           0.           0.           0.35313131\n",
      "  23.           0.08       -12.           2.           0.           0.5\n",
      "   1.           0.           0.           0.           1.        ]\n"
     ]
    }
   ],
   "source": [
    "# Awesome sauce.  Now let's fill in missing values rather than dropping them\n",
    "# reload train\n",
    "train = genfromtxt('../learning/train_reduced.csv',delimiter=',')\n",
    "test = genfromtxt('../learning/test_reduced.csv',delimiter=',')\n",
    "unlabeled_r = genfromtxt('../learning/unlabeled_reduced.csv',delimiter=',')\n",
    "\n",
    "\n",
    "# get rid of first row (I think this is just column labels)\n",
    "train = train[1:,:]\n",
    "print('train', train.shape)\n",
    "\n",
    "test = test[1:,:]\n",
    "print('test', test.shape)\n",
    "\n",
    "\n",
    "unlabeled_r = unlabeled_r[1:,:]\n",
    "print('unlabeled', unlabeled_r.shape)\n",
    "\n",
    "\n",
    "\n",
    "##Drop all nans:\n",
    "train = train[~np.isnan(train).any(axis=1)]\n",
    "test = test[~np.isnan(test).any(axis=1)]\n",
    "unlabeled_r = unlabeled_r[~np.isnan(unlabeled_r).any(axis=1)]\n",
    "\n",
    "print('test', test.shape)\n",
    "print(test[6,:])\n",
    "\n",
    "\n",
    "yTrue = test[:,test.shape[1]-1] # label\n",
    "print(yTrue.shape)\n",
    "print(yTrue[6])\n",
    "\n",
    "Xtest = test[:,1:test.shape[1]-1]  # data\n",
    "print(Xtest.shape)\n",
    "print(Xtest[6])\n",
    "\n",
    "y = train[:,train.shape[1]-1] # label\n",
    "X = train[:,1:train.shape[1]-1]  # data\n",
    "\n",
    "unlabeled_X = unlabeled_r[:,1:unlabeled_r.shape[1]]\n"
   ]
  },
  {
   "cell_type": "code",
   "execution_count": 6,
   "metadata": {
    "collapsed": false
   },
   "outputs": [
    {
     "name": "stdout",
     "output_type": "stream",
     "text": [
      "prec 0.894292632307\n",
      "rec 0.898305084746\n",
      "f1 0.894741910632\n"
     ]
    }
   ],
   "source": [
    "# Double check that model is good\n",
    "from sklearn.grid_search import GridSearchCV\n",
    "\n",
    "\n",
    "# SVC tuning\n",
    "#tuned_parameters = [{'kernel': ['rbf'], 'gamma': [1e-3, 1e-4],\n",
    "#                      'C': [1, 10, 100, 1000]},\n",
    "#                     {'kernel': ['linear'], 'C': [1, 10, 100, 1000]}]\n",
    "#clf = GridSearchCV(SVC(C=1), tuned_parameters, cv=10,\n",
    "#                       scoring='f1')\n",
    "clf = SVC(C=1000, cache_size=200, class_weight=None, coef0=0.0, decision_function_shape=None, degree=3, gamma=0.001, kernel='rbf', max_iter=-1, probability=False, random_state=None, shrinking=True, tol=0.001, verbose=False)\n",
    "clf.fit(X,y)\n",
    "\n",
    "# Get parameters from model\n",
    "#params = clf.get_params()\n",
    "#sv = clf.support_vectors\n",
    "#nv = clf.n_support_\n",
    "#a  = clf.dual_coef_\n",
    "#b  = clf._intercept_\n",
    "#cs = clf.classes_\n",
    "\n",
    "\n",
    "\n",
    "yPred = clf.predict(Xtest)\n",
    "prec, rec, f1, whatever = precision_recall_fscore_support(yTrue, yPred,average='weighted')\n",
    "print('prec', prec)\n",
    "print('rec', rec)\n",
    "print('f1', f1)\n"
   ]
  },
  {
   "cell_type": "code",
   "execution_count": 7,
   "metadata": {
    "collapsed": false
   },
   "outputs": [],
   "source": [
    "#import gold reduced and train the classifier on the full thing\n",
    "gold = genfromtxt('../learning/gold_reduced.csv',delimiter=',')\n",
    "\n",
    "\n",
    "# get rid of first row (I think this is just column labels)\n",
    "gold = gold[1:,:]\n",
    "\n",
    "##Drop all nans:\n",
    "gold = gold[~np.isnan(gold).any(axis=1)]\n",
    "\n",
    "gold_y = gold[:,gold.shape[1]-1] # label\n",
    "gold_X = gold[:,1:gold.shape[1]-1]  # data\n"
   ]
  },
  {
   "cell_type": "code",
   "execution_count": 8,
   "metadata": {
    "collapsed": false,
    "scrolled": true
   },
   "outputs": [
    {
     "name": "stderr",
     "output_type": "stream",
     "text": [
      "Metadata file is not present in the given path; proceeding to read the csv file.\n"
     ]
    }
   ],
   "source": [
    "unlabeled = em.read_csv_metadata(\"../learning/unlabeled.csv\", encoding=\"ISO-8859-1\", key='_id')\n",
    "df = unlabeled.dropna(subset = ['_id', 'name_name_jac_qgm_3_qgm_3', 'name_name_jac_dlm_dc0_dlm_dc0',\n",
    "       'countries_countries_jac_qgm_3_qgm_3',\n",
    "       'countries_countries_cos_dlm_dc0_dlm_dc0',\n",
    "       'countries_countries_jac_dlm_dc0_dlm_dc0', 'countries_countries_mel',\n",
    "       'countries_countries_lev_dist', 'countries_countries_lev_sim',\n",
    "       'countries_countries_nmw', 'countries_countries_sw',\n",
    "       'country_count_country_count_exm', 'country_count_country_count_anm',\n",
    "       'country_count_country_count_lev_dist',\n",
    "       'country_count_country_count_lev_sim', 'status_match',\n",
    "       'country_overlap', 'country_count_sim'])\n",
    "\n",
    "#labeled.head()\n",
    "#print(test[2])\n",
    "#labeled_r.columns"
   ]
  },
  {
   "cell_type": "code",
   "execution_count": 9,
   "metadata": {
    "collapsed": false
   },
   "outputs": [],
   "source": [
    "#train model on gold\n",
    "SVC(C=100, cache_size=200, class_weight=None, coef0=0.0,decision_function_shape=None, degree=3, gamma='auto', kernel='linear', max_iter=-1, probability=False, random_state=None, shrinking=True, tol=0.001, verbose=False)\n",
    "clf.fit(gold_X,gold_y)\n",
    "\n",
    "prediction = clf.predict(unlabeled_X)"
   ]
  },
  {
   "cell_type": "code",
   "execution_count": 10,
   "metadata": {
    "collapsed": false,
    "scrolled": true
   },
   "outputs": [],
   "source": [
    "#unlabeled['label'] = prediction\n",
    "#unlabeled\n",
    "#len(dropped)"
   ]
  },
  {
   "cell_type": "code",
   "execution_count": 11,
   "metadata": {
    "collapsed": false
   },
   "outputs": [],
   "source": [
    "add = pd.DataFrame(prediction, columns=['label'])\n",
    "df['label'] = add\n",
    "df = df[df.label != 0]"
   ]
  },
  {
   "cell_type": "code",
   "execution_count": 12,
   "metadata": {
    "collapsed": false
   },
   "outputs": [
    {
     "data": {
      "text/plain": [
       "603"
      ]
     },
     "execution_count": 12,
     "metadata": {},
     "output_type": "execute_result"
    }
   ],
   "source": [
    "len(df)"
   ]
  },
  {
   "cell_type": "code",
   "execution_count": 13,
   "metadata": {
    "collapsed": false
   },
   "outputs": [
    {
     "name": "stderr",
     "output_type": "stream",
     "text": [
      "Metadata file is not present in the given path; proceeding to read the csv file.\n",
      "Metadata file is not present in the given path; proceeding to read the csv file.\n"
     ]
    }
   ],
   "source": [
    "# Read in csv as dataframe\n",
    "rl = em.read_csv_metadata(\"../finalRedlist.csv\", encoding=\"ISO-8859-1\", key='id')\n",
    "# glance at first few rows\n",
    "\n",
    "ar = em.read_csv_metadata(\"../finalArkives.csv\", encoding=\"ISO-8859-1\", key='id')"
   ]
  },
  {
   "cell_type": "code",
   "execution_count": 14,
   "metadata": {
    "collapsed": false
   },
   "outputs": [],
   "source": [
    "C = pd.read_csv('../learning/gold.csv', encoding=\"ISO-8859-1\")"
   ]
  },
  {
   "cell_type": "code",
   "execution_count": 15,
   "metadata": {
    "collapsed": false
   },
   "outputs": [],
   "source": [
    "df = df.append(C, ignore_index=True)"
   ]
  },
  {
   "cell_type": "code",
   "execution_count": 16,
   "metadata": {
    "collapsed": false
   },
   "outputs": [],
   "source": [
    "df = df[df.label != 0]"
   ]
  },
  {
   "cell_type": "code",
   "execution_count": 17,
   "metadata": {
    "collapsed": false
   },
   "outputs": [
    {
     "data": {
      "text/plain": [
       "664"
      ]
     },
     "execution_count": 17,
     "metadata": {},
     "output_type": "execute_result"
    }
   ],
   "source": [
    "len(df)\n"
   ]
  },
  {
   "cell_type": "code",
   "execution_count": 18,
   "metadata": {
    "collapsed": false
   },
   "outputs": [
    {
     "data": {
      "text/plain": [
       "Index(['_id', 'ltable_id', 'rtable_id', 'ltable_name', 'ltable_genus',\n",
       "       'ltable_family', 'ltable_ecology', 'ltable_countries',\n",
       "       'ltable_threat_paragraph', 'ltable_conservation_paragraph',\n",
       "       'ltable_pop_trend', 'ltable_status', 'ltable_country_count',\n",
       "       'ltable_scientific_name', 'rtable_scientific_name', 'rtable_name',\n",
       "       'rtable_kingdom', 'rtable_phylum', 'rtable_class', 'rtable_order',\n",
       "       'rtable_family', 'rtable_genus', 'rtable_size', 'rtable_threats',\n",
       "       'rtable_conservation', 'rtable_threat_keywords',\n",
       "       'rtable_conservation_keywords', 'rtable_status', 'rtable_countries',\n",
       "       'rtable_country_count', 'rtable_tCount', 'label'],\n",
       "      dtype='object')"
      ]
     },
     "execution_count": 18,
     "metadata": {},
     "output_type": "execute_result"
    }
   ],
   "source": [
    "cols_to_drop = ['id.1', \n",
    "                'Unnamed',\n",
    "                'name_name_jac_qgm_3_qgm_3',\n",
    "                'name_name_jac_dlm_dc0_dlm_dc0', \n",
    "                'countries_countries_jac_qgm_3_qgm_3',\n",
    "                'countries_countries_cos_dlm_dc0_dlm_dc0',\n",
    "                'countries_countries_jac_dlm_dc0_dlm_dc0', \n",
    "                'countries_countries_mel',\n",
    "                'countries_countries_lev_dist', \n",
    "                'countries_countries_lev_sim',\n",
    "                'countries_countries_nmw', \n",
    "                'countries_countries_sw',\n",
    "                'country_count_country_count_exm', \n",
    "                'country_count_country_count_anm',\n",
    "                'country_count_country_count_lev_dist',\n",
    "                'country_count_country_count_lev_sim', \n",
    "                'status_match',\n",
    "                'country_overlap', \n",
    "                'country_count_sim'\n",
    "               ]\n",
    "\n",
    "for n in df.columns:\n",
    "    for c in cols_to_drop:\n",
    "        if c in n:\n",
    "            df = df.drop(n,1)\n",
    "df.columns"
   ]
  },
  {
   "cell_type": "code",
   "execution_count": 19,
   "metadata": {
    "collapsed": false
   },
   "outputs": [],
   "source": [
    "df.to_csv('labeled.csv')"
   ]
  },
  {
   "cell_type": "code",
   "execution_count": 21,
   "metadata": {
    "collapsed": false
   },
   "outputs": [
    {
     "data": {
      "text/plain": [
       "Index(['_id', 'ltable_id', 'rtable_id', 'ltable_name', 'ltable_genus',\n",
       "       'ltable_family', 'ltable_ecology', 'ltable_countries',\n",
       "       'ltable_threat_paragraph', 'ltable_conservation_paragraph',\n",
       "       'ltable_pop_trend', 'ltable_status', 'ltable_country_count',\n",
       "       'ltable_scientific_name', 'rtable_scientific_name', 'rtable_name',\n",
       "       'rtable_kingdom', 'rtable_phylum', 'rtable_class', 'rtable_order',\n",
       "       'rtable_family', 'rtable_genus', 'rtable_size', 'rtable_threats',\n",
       "       'rtable_conservation', 'rtable_threat_keywords',\n",
       "       'rtable_conservation_keywords', 'rtable_status', 'rtable_countries',\n",
       "       'rtable_country_count', 'rtable_tCount', 'label'],\n",
       "      dtype='object')"
      ]
     },
     "execution_count": 21,
     "metadata": {},
     "output_type": "execute_result"
    }
   ],
   "source": [
    "df.columns"
   ]
  },
  {
   "cell_type": "code",
   "execution_count": 28,
   "metadata": {
    "collapsed": false
   },
   "outputs": [
    {
     "data": {
      "text/plain": [
       "148"
      ]
     },
     "execution_count": 28,
     "metadata": {},
     "output_type": "execute_result"
    }
   ],
   "source": [
    "count = 0\n",
    "for index, row in df.iterrows():\n",
    "    ltable = str(row['ltable_scientific_name'])\n",
    "    rtable = str(row['rtable_scientific_name'])\n",
    "    \n",
    "    if ltable == rtable:\n",
    "        count = count + 1\n",
    "    \n",
    "    else:\n",
    "        df = df.drop(index)\n",
    "len(df)"
   ]
  },
  {
   "cell_type": "code",
   "execution_count": null,
   "metadata": {
    "collapsed": true
   },
   "outputs": [],
   "source": []
  }
 ],
 "metadata": {
  "anaconda-cloud": {},
  "kernelspec": {
   "display_name": "Python 3",
   "language": "python",
   "name": "python3"
  },
  "language_info": {
   "codemirror_mode": {
    "name": "ipython",
    "version": 3
   },
   "file_extension": ".py",
   "mimetype": "text/x-python",
   "name": "python",
   "nbconvert_exporter": "python",
   "pygments_lexer": "ipython3",
   "version": "3.5.2"
  }
 },
 "nbformat": 4,
 "nbformat_minor": 1
}
