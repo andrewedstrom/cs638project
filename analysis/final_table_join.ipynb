{
 "cells": [
  {
   "cell_type": "code",
   "execution_count": 1,
   "metadata": {
    "collapsed": true
   },
   "outputs": [],
   "source": [
    "#Ignore scikit learn deprication warnings\n",
    "def warn(*args, **kwargs):\n",
    "    pass\n",
    "import warnings\n",
    "warnings.warn = warn\n"
   ]
  },
  {
   "cell_type": "code",
   "execution_count": 2,
   "metadata": {
    "collapsed": false
   },
   "outputs": [
    {
     "name": "stdout",
     "output_type": "stream",
     "text": [
      "C:\\Users\\aparn\\Desktop\\cs638project\\learning\n"
     ]
    }
   ],
   "source": [
    "import os\n",
    "print(os.getcwd())\n",
    "#os.chdir('../blocking/')\n",
    "import pandas as pd\n",
    "import py_entitymatching as em\n",
    "import math\n",
    "import matplotlib.pyplot as plt\n",
    "import numpy as np\n",
    "from matplotlib import style\n",
    "import re\n"
   ]
  },
  {
   "cell_type": "code",
   "execution_count": null,
   "metadata": {
    "collapsed": false
   },
   "outputs": [],
   "source": []
  },
  {
   "cell_type": "code",
   "execution_count": 6,
   "metadata": {
    "collapsed": false
   },
   "outputs": [],
   "source": [
    "from numpy import genfromtxt\n",
    "# Awesome sauce.  Now let's fill in missing values rather than dropping them\n",
    "# reload train\n",
    "train = genfromtxt('train_reduced.csv',delimiter=',')\n",
    "test = genfromtxt('unlabeled_reduced.csv',delimiter=',')\n",
    "#unlabeled = genfromtxt('unlabeled_reduced.csv',delimiter=',')\n",
    "# get rid of first row (I think this is just column labels)\n",
    "train = train[1:,:]\n",
    "test = test[1:,:]\n",
    "\n",
    "\n",
    "\n",
    "\n",
    "#print(test)\n",
    "#print(test.shape)\n",
    "#unlabeled = unlabeled[1:,:]\n",
    "\n",
    "# # # replace missing featureVals with 0.5 (halfway in between)\n",
    "# where_are_NaNs = np.isnan(train)\n",
    "# train[where_are_NaNs] = 0\n",
    "\n",
    "\n",
    "##Drop all nans:\n",
    "train = train[~np.isnan(train).any(axis=1)]\n",
    "test = test[~np.isnan(test).any(axis=1)]\n",
    "#unlabeled = unlabeled[~np.isnan(unlabeled).any(axis=1)]\n",
    "\n",
    "y_test = test[:,test.shape[1]-1] # label\n",
    "X_test = test[:,1:test.shape[1]-1]  # data\n",
    "\n",
    "\n",
    "y = train[:,train.shape[1]-1] # label\n",
    "X = train[:,1:train.shape[1]-1]  # data\n",
    "\n",
    "\n"
   ]
  },
  {
   "cell_type": "code",
   "execution_count": null,
   "metadata": {
    "collapsed": false
   },
   "outputs": [],
   "source": []
  },
  {
   "cell_type": "code",
   "execution_count": 4,
   "metadata": {
    "collapsed": false
   },
   "outputs": [],
   "source": [
    "from sklearn.cross_validation import cross_val_score\n",
    "from sklearn.linear_model import LogisticRegression\n",
    "from sklearn.tree import DecisionTreeClassifier\n",
    "from sklearn.ensemble import RandomForestClassifier\n",
    "from sklearn.svm import *\n",
    "from sklearn.naive_bayes import GaussianNB\n",
    "from sklearn.neighbors import KNeighborsClassifier\n",
    "from sklearn.neural_network import MLPClassifier\n",
    "from sklearn.metrics import *\n",
    "\n"
   ]
  },
  {
   "cell_type": "code",
   "execution_count": 39,
   "metadata": {
    "collapsed": false,
    "scrolled": true
   },
   "outputs": [
    {
     "name": "stderr",
     "output_type": "stream",
     "text": [
      "Metadata file is not present in the given path; proceeding to read the csv file.\n",
      "Metadata file is not present in the given path; proceeding to read the csv file.\n"
     ]
    }
   ],
   "source": [
    "labeled = em.read_csv_metadata(\"unlabeled.csv\", encoding=\"ISO-8859-1\", key='_id')\n",
    "labeled_r = em.read_csv_metadata(\"unlabeled_reduced.csv\", encoding=\"ISO-8859-1\", key='_id')\n",
    "labeled = labeled.dropna(subset = ['_id', 'name_name_jac_qgm_3_qgm_3', 'name_name_jac_dlm_dc0_dlm_dc0',\n",
    "       'countries_countries_jac_qgm_3_qgm_3',\n",
    "       'countries_countries_cos_dlm_dc0_dlm_dc0',\n",
    "       'countries_countries_jac_dlm_dc0_dlm_dc0', 'countries_countries_mel',\n",
    "       'countries_countries_lev_dist', 'countries_countries_lev_sim',\n",
    "       'countries_countries_nmw', 'countries_countries_sw',\n",
    "       'country_count_country_count_exm', 'country_count_country_count_anm',\n",
    "       'country_count_country_count_lev_dist',\n",
    "       'country_count_country_count_lev_sim', 'status_match',\n",
    "       'country_overlap', 'country_count_sim'])\n",
    "#labeled.head()\n",
    "#print(test[2])\n",
    "#labeled_r.columns"
   ]
  },
  {
   "cell_type": "code",
   "execution_count": 7,
   "metadata": {
    "collapsed": false
   },
   "outputs": [
    {
     "name": "stdout",
     "output_type": "stream",
     "text": [
      "[ 0.  0.  1. ...,  0.  0.  0.]\n",
      "SVC:0.8240783410138248\n",
      "SVC:SVC(C=100, cache_size=200, class_weight=None, coef0=0.0,\n",
      "  decision_function_shape=None, degree=3, gamma='auto', kernel='linear',\n",
      "  max_iter=-1, probability=False, random_state=None, shrinking=True,\n",
      "  tol=0.001, verbose=False)\n"
     ]
    }
   ],
   "source": [
    "# CME's grid search stuff\n",
    "from sklearn.grid_search import GridSearchCV\n",
    "\n",
    "\n",
    "# SVC tuning\n",
    "tuned_parameters = [{'kernel': ['rbf'], 'gamma': [1e-3, 1e-4],\n",
    "                     'C': [1, 10, 100, 1000]},\n",
    "                    {'kernel': ['linear'], 'C': [1, 10, 100, 1000]}]\n",
    "clf = GridSearchCV(SVC(C=1), tuned_parameters, cv=10,\n",
    "                       scoring='f1')\n",
    "clf.fit(X,y)\n",
    "\n",
    "# Get parameters from model\n",
    "#params = clf.get_params()\n",
    "#sv = clf.support_vectors\n",
    "#nv = clf.n_support_\n",
    "#a  = clf.dual_coef_\n",
    "#b  = clf._intercept_\n",
    "#cs = clf.classes_\n",
    "\n",
    "\n",
    "\n",
    "prediction = clf.predict(X_test)\n",
    "print(prediction)\n",
    "\n",
    "print(\"SVC:\" + str(clf.best_score_))\n",
    "print(\"SVC:\" + str(clf.best_estimator_))\n"
   ]
  },
  {
   "cell_type": "code",
   "execution_count": 40,
   "metadata": {
    "collapsed": false,
    "scrolled": true
   },
   "outputs": [
    {
     "data": {
      "text/html": [
       "<div>\n",
       "<table border=\"1\" class=\"dataframe\">\n",
       "  <thead>\n",
       "    <tr style=\"text-align: right;\">\n",
       "      <th></th>\n",
       "      <th>_id</th>\n",
       "      <th>ltable_id</th>\n",
       "      <th>rtable_id</th>\n",
       "      <th>ltable_name</th>\n",
       "      <th>ltable_genus</th>\n",
       "      <th>ltable_family</th>\n",
       "      <th>ltable_ecology</th>\n",
       "      <th>ltable_countries</th>\n",
       "      <th>ltable_threat_paragraph</th>\n",
       "      <th>ltable_conservation_paragraph</th>\n",
       "      <th>...</th>\n",
       "      <th>countries_countries_nmw</th>\n",
       "      <th>countries_countries_sw</th>\n",
       "      <th>country_count_country_count_exm</th>\n",
       "      <th>country_count_country_count_anm</th>\n",
       "      <th>country_count_country_count_lev_dist</th>\n",
       "      <th>country_count_country_count_lev_sim</th>\n",
       "      <th>status_match</th>\n",
       "      <th>country_overlap</th>\n",
       "      <th>country_count_sim</th>\n",
       "      <th>labeled</th>\n",
       "    </tr>\n",
       "  </thead>\n",
       "  <tbody>\n",
       "    <tr>\n",
       "      <th>0</th>\n",
       "      <td>2103728</td>\n",
       "      <td>6253</td>\n",
       "      <td>265</td>\n",
       "      <td>light red meranti</td>\n",
       "      <td>Shorea</td>\n",
       "      <td>Dipterocarpaceae</td>\n",
       "      <td>Terrestrial</td>\n",
       "      <td>Indonesia (Sumatera); Malaysia (Peninsular Malaysia);</td>\n",
       "      <td>NaN</td>\n",
       "      <td>['\\n    The species occurs in some forest reserves.\\n\\n    \\n  ']</td>\n",
       "      <td>...</td>\n",
       "      <td>-33.0</td>\n",
       "      <td>2.0</td>\n",
       "      <td>0</td>\n",
       "      <td>0.500000</td>\n",
       "      <td>1.0</td>\n",
       "      <td>0.0</td>\n",
       "      <td>0</td>\n",
       "      <td>0.0</td>\n",
       "      <td>1</td>\n",
       "      <td>0.0</td>\n",
       "    </tr>\n",
       "    <tr>\n",
       "      <th>2</th>\n",
       "      <td>7553756</td>\n",
       "      <td>2846</td>\n",
       "      <td>954</td>\n",
       "      <td>blackfaced black spider monkey, chamek spider monkey, peruvian black spider monkey, peruvian spi...</td>\n",
       "      <td>Ateles</td>\n",
       "      <td>Atelidae</td>\n",
       "      <td>Terrestrial</td>\n",
       "      <td>Bolivia, Plurinational States of; Brazil (Acre, Amazonas, Mato Grosso, RondÃ?Â´nia); Peru;</td>\n",
       "      <td>\\r\\r\\r\\r\\n    The major threat is subsistence and market hunting for food (with guns). An additi...</td>\n",
       "      <td>['\\n    This species is confirmed, or may occur, in numerous protected areas.', &lt;br/&gt;, &lt;br/&gt;, 'B...</td>\n",
       "      <td>...</td>\n",
       "      <td>-87.0</td>\n",
       "      <td>0.0</td>\n",
       "      <td>0</td>\n",
       "      <td>0.000000</td>\n",
       "      <td>1.0</td>\n",
       "      <td>0.0</td>\n",
       "      <td>0</td>\n",
       "      <td>0.0</td>\n",
       "      <td>0</td>\n",
       "      <td>0.0</td>\n",
       "    </tr>\n",
       "    <tr>\n",
       "      <th>4</th>\n",
       "      <td>8371955</td>\n",
       "      <td>5800</td>\n",
       "      <td>1057</td>\n",
       "      <td>black sea bass, giant sea bass</td>\n",
       "      <td>Stereolepis</td>\n",
       "      <td>Polyprionidae</td>\n",
       "      <td>Marine</td>\n",
       "      <td>&lt;div&gt;Pacific Ã¢?? eastern central&lt;/div&gt;; Mexico (Baja California, Sonora); United States (Califo...</td>\n",
       "      <td>\\r\\r\\r\\r\\n    The major threat is from overfishing; however, the species is protected in Califor...</td>\n",
       "      <td>['\\n    The fish has been protected in California since 1982 and protected in Mexico since 1992 ...</td>\n",
       "      <td>...</td>\n",
       "      <td>-89.0</td>\n",
       "      <td>2.0</td>\n",
       "      <td>0</td>\n",
       "      <td>0.333333</td>\n",
       "      <td>1.0</td>\n",
       "      <td>0.0</td>\n",
       "      <td>1</td>\n",
       "      <td>0.0</td>\n",
       "      <td>0</td>\n",
       "      <td>1.0</td>\n",
       "    </tr>\n",
       "    <tr>\n",
       "      <th>5</th>\n",
       "      <td>1780670</td>\n",
       "      <td>7710</td>\n",
       "      <td>224</td>\n",
       "      <td>largefin pupfish</td>\n",
       "      <td>Cyprinodon</td>\n",
       "      <td>Cyprinodontidae</td>\n",
       "      <td>NaN</td>\n",
       "      <td>Mexico;</td>\n",
       "      <td>NaN</td>\n",
       "      <td>NaN</td>\n",
       "      <td>...</td>\n",
       "      <td>-25.0</td>\n",
       "      <td>3.0</td>\n",
       "      <td>0</td>\n",
       "      <td>0.333333</td>\n",
       "      <td>1.0</td>\n",
       "      <td>0.0</td>\n",
       "      <td>0</td>\n",
       "      <td>0.0</td>\n",
       "      <td>0</td>\n",
       "      <td>0.0</td>\n",
       "    </tr>\n",
       "    <tr>\n",
       "      <th>7</th>\n",
       "      <td>1840302</td>\n",
       "      <td>4022</td>\n",
       "      <td>232</td>\n",
       "      <td>chamula mountain brook frog</td>\n",
       "      <td>Duellmanohyla</td>\n",
       "      <td>Hylidae</td>\n",
       "      <td>Terrestrial; Freshwater</td>\n",
       "      <td>Mexico;</td>\n",
       "      <td>\\r\\r\\r\\r\\n    The main threat is deforestation and the disturbance of cloud forest remnants (at ...</td>\n",
       "      <td>['\\n    The range of this species does not include any protected areas, and the protection and r...</td>\n",
       "      <td>...</td>\n",
       "      <td>-10.0</td>\n",
       "      <td>1.0</td>\n",
       "      <td>0</td>\n",
       "      <td>0.500000</td>\n",
       "      <td>1.0</td>\n",
       "      <td>0.0</td>\n",
       "      <td>1</td>\n",
       "      <td>0.0</td>\n",
       "      <td>1</td>\n",
       "      <td>0.0</td>\n",
       "    </tr>\n",
       "  </tbody>\n",
       "</table>\n",
       "<p>5 rows × 52 columns</p>\n",
       "</div>"
      ],
      "text/plain": [
       "       _id  ltable_id  rtable_id  \\\n",
       "0  2103728       6253        265   \n",
       "2  7553756       2846        954   \n",
       "4  8371955       5800       1057   \n",
       "5  1780670       7710        224   \n",
       "7  1840302       4022        232   \n",
       "\n",
       "                                                                                           ltable_name  \\\n",
       "0                                                                                    light red meranti   \n",
       "2  blackfaced black spider monkey, chamek spider monkey, peruvian black spider monkey, peruvian spi...   \n",
       "4                                                                       black sea bass, giant sea bass   \n",
       "5                                                                                     largefin pupfish   \n",
       "7                                                                          chamula mountain brook frog   \n",
       "\n",
       "    ltable_genus     ltable_family           ltable_ecology  \\\n",
       "0         Shorea  Dipterocarpaceae              Terrestrial   \n",
       "2         Ateles          Atelidae              Terrestrial   \n",
       "4    Stereolepis     Polyprionidae                   Marine   \n",
       "5     Cyprinodon   Cyprinodontidae                      NaN   \n",
       "7  Duellmanohyla           Hylidae  Terrestrial; Freshwater   \n",
       "\n",
       "                                                                                      ltable_countries  \\\n",
       "0                                               Indonesia (Sumatera); Malaysia (Peninsular Malaysia);    \n",
       "2          Bolivia, Plurinational States of; Brazil (Acre, Amazonas, Mato Grosso, RondÃ?Â´nia); Peru;    \n",
       "4  <div>Pacific Ã¢?? eastern central</div>; Mexico (Baja California, Sonora); United States (Califo...   \n",
       "5                                                                                             Mexico;    \n",
       "7                                                                                             Mexico;    \n",
       "\n",
       "                                                                               ltable_threat_paragraph  \\\n",
       "0                                                                                                  NaN   \n",
       "2  \\r\\r\\r\\r\\n    The major threat is subsistence and market hunting for food (with guns). An additi...   \n",
       "4  \\r\\r\\r\\r\\n    The major threat is from overfishing; however, the species is protected in Califor...   \n",
       "5                                                                                                  NaN   \n",
       "7  \\r\\r\\r\\r\\n    The main threat is deforestation and the disturbance of cloud forest remnants (at ...   \n",
       "\n",
       "                                                                         ltable_conservation_paragraph  \\\n",
       "0                                    ['\\n    The species occurs in some forest reserves.\\n\\n    \\n  ']   \n",
       "2  ['\\n    This species is confirmed, or may occur, in numerous protected areas.', <br/>, <br/>, 'B...   \n",
       "4  ['\\n    The fish has been protected in California since 1982 and protected in Mexico since 1992 ...   \n",
       "5                                                                                                  NaN   \n",
       "7  ['\\n    The range of this species does not include any protected areas, and the protection and r...   \n",
       "\n",
       "    ...   countries_countries_nmw countries_countries_sw  \\\n",
       "0   ...                     -33.0                    2.0   \n",
       "2   ...                     -87.0                    0.0   \n",
       "4   ...                     -89.0                    2.0   \n",
       "5   ...                     -25.0                    3.0   \n",
       "7   ...                     -10.0                    1.0   \n",
       "\n",
       "   country_count_country_count_exm country_count_country_count_anm  \\\n",
       "0                                0                        0.500000   \n",
       "2                                0                        0.000000   \n",
       "4                                0                        0.333333   \n",
       "5                                0                        0.333333   \n",
       "7                                0                        0.500000   \n",
       "\n",
       "  country_count_country_count_lev_dist country_count_country_count_lev_sim  \\\n",
       "0                                  1.0                                 0.0   \n",
       "2                                  1.0                                 0.0   \n",
       "4                                  1.0                                 0.0   \n",
       "5                                  1.0                                 0.0   \n",
       "7                                  1.0                                 0.0   \n",
       "\n",
       "  status_match country_overlap country_count_sim labeled  \n",
       "0            0             0.0                 1     0.0  \n",
       "2            0             0.0                 0     0.0  \n",
       "4            1             0.0                 0     1.0  \n",
       "5            0             0.0                 0     0.0  \n",
       "7            1             0.0                 1     0.0  \n",
       "\n",
       "[5 rows x 52 columns]"
      ]
     },
     "execution_count": 40,
     "metadata": {},
     "output_type": "execute_result"
    }
   ],
   "source": [
    "labeled['labeled'] = prediction\n",
    "labeled.head()\n",
    "#len(dropped)"
   ]
  },
  {
   "cell_type": "code",
   "execution_count": 8,
   "metadata": {
    "collapsed": false
   },
   "outputs": [
    {
     "ename": "NameError",
     "evalue": "name 'ids' is not defined",
     "output_type": "error",
     "traceback": [
      "\u001b[0;31m---------------------------------------------------------------------------\u001b[0m",
      "\u001b[0;31mNameError\u001b[0m                                 Traceback (most recent call last)",
      "\u001b[0;32m<ipython-input-8-b6afd7037413>\u001b[0m in \u001b[0;36m<module>\u001b[0;34m()\u001b[0m\n\u001b[0;32m----> 1\u001b[0;31m \u001b[0m_id\u001b[0m \u001b[1;33m=\u001b[0m \u001b[0mpd\u001b[0m\u001b[1;33m.\u001b[0m\u001b[0mDataFrame\u001b[0m\u001b[1;33m(\u001b[0m\u001b[0mids\u001b[0m\u001b[1;33m)\u001b[0m\u001b[1;33m\u001b[0m\u001b[0m\n\u001b[0m\u001b[1;32m      2\u001b[0m \u001b[0mlabel\u001b[0m \u001b[1;33m=\u001b[0m \u001b[0mpd\u001b[0m\u001b[1;33m.\u001b[0m\u001b[0mDataFrame\u001b[0m\u001b[1;33m(\u001b[0m\u001b[0mprediction\u001b[0m\u001b[1;33m)\u001b[0m\u001b[1;33m\u001b[0m\u001b[0m\n\u001b[1;32m      3\u001b[0m \u001b[0mdf\u001b[0m \u001b[1;33m=\u001b[0m \u001b[0mpd\u001b[0m\u001b[1;33m.\u001b[0m\u001b[0mconcat\u001b[0m\u001b[1;33m(\u001b[0m\u001b[1;33m[\u001b[0m\u001b[0m_id\u001b[0m\u001b[1;33m,\u001b[0m \u001b[0mlabel\u001b[0m\u001b[1;33m]\u001b[0m\u001b[1;33m,\u001b[0m \u001b[0maxis\u001b[0m\u001b[1;33m=\u001b[0m\u001b[1;36m1\u001b[0m\u001b[1;33m)\u001b[0m\u001b[1;33m\u001b[0m\u001b[0m\n\u001b[1;32m      4\u001b[0m \u001b[0mdf\u001b[0m\u001b[1;33m.\u001b[0m\u001b[0mcolumns\u001b[0m \u001b[1;33m=\u001b[0m \u001b[1;33m[\u001b[0m\u001b[1;34m'id'\u001b[0m\u001b[1;33m,\u001b[0m \u001b[1;34m'label'\u001b[0m\u001b[1;33m]\u001b[0m\u001b[1;33m\u001b[0m\u001b[0m\n\u001b[1;32m      5\u001b[0m \u001b[0mdf\u001b[0m \u001b[1;33m=\u001b[0m \u001b[0mdf\u001b[0m\u001b[1;33m[\u001b[0m\u001b[0mdf\u001b[0m\u001b[1;33m.\u001b[0m\u001b[0mlabel\u001b[0m \u001b[1;33m!=\u001b[0m \u001b[1;36m0\u001b[0m\u001b[1;33m]\u001b[0m\u001b[1;33m\u001b[0m\u001b[0m\n",
      "\u001b[0;31mNameError\u001b[0m: name 'ids' is not defined"
     ]
    }
   ],
   "source": []
  },
  {
   "cell_type": "code",
   "execution_count": null,
   "metadata": {
    "collapsed": false
   },
   "outputs": [],
   "source": [
    "\n"
   ]
  },
  {
   "cell_type": "code",
   "execution_count": null,
   "metadata": {
    "collapsed": false
   },
   "outputs": [],
   "source": []
  },
  {
   "cell_type": "code",
   "execution_count": null,
   "metadata": {
    "collapsed": false
   },
   "outputs": [],
   "source": []
  },
  {
   "cell_type": "code",
   "execution_count": null,
   "metadata": {
    "collapsed": false
   },
   "outputs": [],
   "source": []
  },
  {
   "cell_type": "code",
   "execution_count": null,
   "metadata": {
    "collapsed": false
   },
   "outputs": [],
   "source": [
    "\n"
   ]
  },
  {
   "cell_type": "code",
   "execution_count": null,
   "metadata": {
    "collapsed": true
   },
   "outputs": [],
   "source": [
    "\n"
   ]
  },
  {
   "cell_type": "code",
   "execution_count": null,
   "metadata": {
    "collapsed": false
   },
   "outputs": [],
   "source": []
  },
  {
   "cell_type": "code",
   "execution_count": null,
   "metadata": {
    "collapsed": true
   },
   "outputs": [],
   "source": []
  }
 ],
 "metadata": {
  "anaconda-cloud": {},
  "kernelspec": {
   "display_name": "Python 3",
   "language": "python",
   "name": "python3"
  },
  "language_info": {
   "codemirror_mode": {
    "name": "ipython",
    "version": 3
   },
   "file_extension": ".py",
   "mimetype": "text/x-python",
   "name": "python",
   "nbconvert_exporter": "python",
   "pygments_lexer": "ipython3",
   "version": "3.5.2"
  }
 },
 "nbformat": 4,
 "nbformat_minor": 1
}
