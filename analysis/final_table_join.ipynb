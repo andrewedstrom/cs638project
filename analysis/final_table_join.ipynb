{
 "cells": [
  {
   "cell_type": "code",
   "execution_count": 1,
   "metadata": {
    "collapsed": true
   },
   "outputs": [],
   "source": [
    "#Ignore scikit learn deprication warnings\n",
    "def warn(*args, **kwargs):\n",
    "    pass\n",
    "import warnings\n",
    "warnings.warn = warn\n"
   ]
  },
  {
   "cell_type": "code",
   "execution_count": 2,
   "metadata": {
    "collapsed": false
   },
   "outputs": [
    {
     "name": "stdout",
     "output_type": "stream",
     "text": [
      "C:\\Users\\aparn\\Desktop\\cs638project\\learning\n"
     ]
    }
   ],
   "source": [
    "import os\n",
    "print(os.getcwd())\n",
    "#os.chdir('../blocking/')\n",
    "import pandas as pd\n",
    "import py_entitymatching as em\n",
    "import math\n",
    "import matplotlib.pyplot as plt\n",
    "import numpy as np\n",
    "from matplotlib import style\n",
    "import re\n"
   ]
  },
  {
   "cell_type": "code",
   "execution_count": 3,
   "metadata": {
    "collapsed": false
   },
   "outputs": [],
   "source": []
  },
  {
   "cell_type": "code",
   "execution_count": 37,
   "metadata": {
    "collapsed": false
   },
   "outputs": [],
   "source": [
    "# Awesome sauce.  Now let's fill in missing values rather than dropping them\n",
    "# reload train\n",
    "train = genfromtxt('train_reduced.csv',delimiter=',')\n",
    "test = genfromtxt('unlabeled_reduced.csv',delimiter=',')\n",
    "#unlabeled = genfromtxt('unlabeled_reduced.csv',delimiter=',')\n",
    "# get rid of first row (I think this is just column labels)\n",
    "train = train[1:,:]\n",
    "test = test[1:,:]\n",
    "\n",
    "\n",
    "\n",
    "\n",
    "#print(test)\n",
    "#print(test.shape)\n",
    "#unlabeled = unlabeled[1:,:]\n",
    "\n",
    "# # # replace missing featureVals with 0.5 (halfway in between)\n",
    "# where_are_NaNs = np.isnan(train)\n",
    "# train[where_are_NaNs] = 0\n",
    "\n",
    "\n",
    "##Drop all nans:\n",
    "train = train[~np.isnan(train).any(axis=1)]\n",
    "test = test[~np.isnan(test).any(axis=1)]\n",
    "#unlabeled = unlabeled[~np.isnan(unlabeled).any(axis=1)]\n",
    "\n",
    "\n",
    "\n",
    "y = train[:,train.shape[1]-1] # label\n",
    "X = train[:,1:train.shape[1]-1]  # data\n",
    "\n",
    "\n"
   ]
  },
  {
   "cell_type": "code",
   "execution_count": 5,
   "metadata": {
    "collapsed": false
   },
   "outputs": [
    {
     "data": {
      "text/plain": [
       "124"
      ]
     },
     "execution_count": 5,
     "metadata": {},
     "output_type": "execute_result"
    }
   ],
   "source": []
  },
  {
   "cell_type": "code",
   "execution_count": 38,
   "metadata": {
    "collapsed": false
   },
   "outputs": [],
   "source": [
    "from sklearn.cross_validation import cross_val_score\n",
    "from sklearn.linear_model import LogisticRegression\n",
    "from sklearn.tree import DecisionTreeClassifier\n",
    "from sklearn.ensemble import RandomForestClassifier\n",
    "from sklearn.svm import *\n",
    "from sklearn.naive_bayes import GaussianNB\n",
    "from sklearn.neighbors import KNeighborsClassifier\n",
    "from sklearn.neural_network import MLPClassifier\n",
    "from sklearn.metrics import *\n",
    "\n"
   ]
  },
  {
   "cell_type": "code",
   "execution_count": 7,
   "metadata": {
    "collapsed": false
   },
   "outputs": [
    {
     "name": "stdout",
     "output_type": "stream",
     "text": [
      "(124, 17)\n",
      "(124,)\n"
     ]
    }
   ],
   "source": []
  },
  {
   "cell_type": "code",
   "execution_count": 39,
   "metadata": {
    "collapsed": false
   },
   "outputs": [
    {
     "name": "stdout",
     "output_type": "stream",
     "text": [
      "[ 0.  0.  1. ...,  0.  0.  0.]\n",
      "SVC:0.8240783410138248\n",
      "SVC:SVC(C=100, cache_size=200, class_weight=None, coef0=0.0,\n",
      "  decision_function_shape=None, degree=3, gamma='auto', kernel='linear',\n",
      "  max_iter=-1, probability=False, random_state=None, shrinking=True,\n",
      "  tol=0.001, verbose=False)\n"
     ]
    }
   ],
   "source": [
    "# CME's grid search stuff\n",
    "from sklearn.grid_search import GridSearchCV\n",
    "\n",
    "\n",
    "# SVC tuning\n",
    "tuned_parameters = [{'kernel': ['rbf'], 'gamma': [1e-3, 1e-4],\n",
    "                     'C': [1, 10, 100, 1000]},\n",
    "                    {'kernel': ['linear'], 'C': [1, 10, 100, 1000]}]\n",
    "clf = GridSearchCV(SVC(C=1), tuned_parameters, cv=10,\n",
    "                       scoring='f1')\n",
    "clf.fit(X,y)\n",
    "\n",
    "# Get parameters from model\n",
    "#params = clf.get_params()\n",
    "#sv = clf.support_vectors\n",
    "#nv = clf.n_support_\n",
    "#a  = clf.dual_coef_\n",
    "#b  = clf._intercept_\n",
    "#cs = clf.classes_\n",
    "\n",
    "\n",
    "\n",
    "prediction = clf.predict(X_test)\n",
    "print(prediction)\n",
    "\n",
    "print(\"SVC:\" + str(clf.best_score_))\n",
    "print(\"SVC:\" + str(clf.best_estimator_))\n"
   ]
  },
  {
   "cell_type": "code",
   "execution_count": 33,
   "metadata": {
    "collapsed": false
   },
   "outputs": [
    {
     "name": "stderr",
     "output_type": "stream",
     "text": [
      "Metadata file is not present in the given path; proceeding to read the csv file.\n"
     ]
    },
    {
     "data": {
      "text/html": [
       "<div>\n",
       "<table border=\"1\" class=\"dataframe\">\n",
       "  <thead>\n",
       "    <tr style=\"text-align: right;\">\n",
       "      <th></th>\n",
       "      <th>id</th>\n",
       "      <th>ltable_id</th>\n",
       "      <th>rtable_id</th>\n",
       "      <th>ltable_name</th>\n",
       "      <th>ltable_genus</th>\n",
       "      <th>ltable_family</th>\n",
       "      <th>ltable_ecology</th>\n",
       "      <th>ltable_countries</th>\n",
       "      <th>ltable_threat_paragraph</th>\n",
       "      <th>ltable_conservation_paragraph</th>\n",
       "      <th>...</th>\n",
       "      <th>countries_countries_lev_sim</th>\n",
       "      <th>countries_countries_nmw</th>\n",
       "      <th>countries_countries_sw</th>\n",
       "      <th>country_count_country_count_exm</th>\n",
       "      <th>country_count_country_count_anm</th>\n",
       "      <th>country_count_country_count_lev_dist</th>\n",
       "      <th>country_count_country_count_lev_sim</th>\n",
       "      <th>status_match</th>\n",
       "      <th>country_overlap</th>\n",
       "      <th>country_count_sim</th>\n",
       "    </tr>\n",
       "  </thead>\n",
       "  <tbody>\n",
       "    <tr>\n",
       "      <th>0</th>\n",
       "      <td>2103728</td>\n",
       "      <td>6253</td>\n",
       "      <td>265</td>\n",
       "      <td>light red meranti</td>\n",
       "      <td>Shorea</td>\n",
       "      <td>Dipterocarpaceae</td>\n",
       "      <td>Terrestrial</td>\n",
       "      <td>Indonesia (Sumatera); Malaysia (Peninsular Malaysia);</td>\n",
       "      <td>NaN</td>\n",
       "      <td>['\\n    The species occurs in some forest reserves.\\n\\n    \\n  ']</td>\n",
       "      <td>...</td>\n",
       "      <td>0.129630</td>\n",
       "      <td>-33.0</td>\n",
       "      <td>2.0</td>\n",
       "      <td>0</td>\n",
       "      <td>0.500000</td>\n",
       "      <td>1.0</td>\n",
       "      <td>0.0</td>\n",
       "      <td>0</td>\n",
       "      <td>0.0</td>\n",
       "      <td>1</td>\n",
       "    </tr>\n",
       "    <tr>\n",
       "      <th>1</th>\n",
       "      <td>6657422</td>\n",
       "      <td>907</td>\n",
       "      <td>841</td>\n",
       "      <td>NaN</td>\n",
       "      <td>Aphanius</td>\n",
       "      <td>Cyprinodontidae</td>\n",
       "      <td>Freshwater</td>\n",
       "      <td>Ethiopia;</td>\n",
       "      <td>\\r\\r\\r\\r\\n    It is expected that there will be high human interference in the  habitats of this...</td>\n",
       "      <td>['\\n    No information available. This species would benefit from protective legislation, as wel...</td>\n",
       "      <td>...</td>\n",
       "      <td>0.250000</td>\n",
       "      <td>-2.0</td>\n",
       "      <td>2.0</td>\n",
       "      <td>1</td>\n",
       "      <td>1.000000</td>\n",
       "      <td>0.0</td>\n",
       "      <td>1.0</td>\n",
       "      <td>0</td>\n",
       "      <td>0.0</td>\n",
       "      <td>1</td>\n",
       "    </tr>\n",
       "    <tr>\n",
       "      <th>2</th>\n",
       "      <td>7553756</td>\n",
       "      <td>2846</td>\n",
       "      <td>954</td>\n",
       "      <td>blackfaced black spider monkey, chamek spider monkey, peruvian black spider monkey, peruvian spi...</td>\n",
       "      <td>Ateles</td>\n",
       "      <td>Atelidae</td>\n",
       "      <td>Terrestrial</td>\n",
       "      <td>Bolivia, Plurinational States of; Brazil (Acre, Amazonas, Mato Grosso, RondÃ?Â´nia); Peru;</td>\n",
       "      <td>\\r\\r\\r\\r\\n    The major threat is subsistence and market hunting for food (with guns). An additi...</td>\n",
       "      <td>['\\n    This species is confirmed, or may occur, in numerous protected areas.', &lt;br/&gt;, &lt;br/&gt;, 'B...</td>\n",
       "      <td>...</td>\n",
       "      <td>0.000000</td>\n",
       "      <td>-87.0</td>\n",
       "      <td>0.0</td>\n",
       "      <td>0</td>\n",
       "      <td>0.000000</td>\n",
       "      <td>1.0</td>\n",
       "      <td>0.0</td>\n",
       "      <td>0</td>\n",
       "      <td>0.0</td>\n",
       "      <td>0</td>\n",
       "    </tr>\n",
       "    <tr>\n",
       "      <th>3</th>\n",
       "      <td>4889866</td>\n",
       "      <td>6311</td>\n",
       "      <td>617</td>\n",
       "      <td>NaN</td>\n",
       "      <td>Shorea</td>\n",
       "      <td>Dipterocarpaceae</td>\n",
       "      <td>Terrestrial</td>\n",
       "      <td>Brunei Darussalam; Indonesia (Kalimantan); Malaysia (Sabah, Sarawak);</td>\n",
       "      <td>\\r\\r\\r\\r\\n    Directly threatened by logging activities because trees do not reach reproductive ...</td>\n",
       "      <td>NaN</td>\n",
       "      <td>...</td>\n",
       "      <td>0.128571</td>\n",
       "      <td>-48.0</td>\n",
       "      <td>9.0</td>\n",
       "      <td>0</td>\n",
       "      <td>0.333333</td>\n",
       "      <td>1.0</td>\n",
       "      <td>0.0</td>\n",
       "      <td>0</td>\n",
       "      <td>1.0</td>\n",
       "      <td>0</td>\n",
       "    </tr>\n",
       "    <tr>\n",
       "      <th>4</th>\n",
       "      <td>8371955</td>\n",
       "      <td>5800</td>\n",
       "      <td>1057</td>\n",
       "      <td>black sea bass, giant sea bass</td>\n",
       "      <td>Stereolepis</td>\n",
       "      <td>Polyprionidae</td>\n",
       "      <td>Marine</td>\n",
       "      <td>&lt;div&gt;Pacific Ã¢?? eastern central&lt;/div&gt;; Mexico (Baja California, Sonora); United States (Califo...</td>\n",
       "      <td>\\r\\r\\r\\r\\n    The major threat is from overfishing; however, the species is protected in Califor...</td>\n",
       "      <td>['\\n    The fish has been protected in California since 1982 and protected in Mexico since 1992 ...</td>\n",
       "      <td>...</td>\n",
       "      <td>0.039216</td>\n",
       "      <td>-89.0</td>\n",
       "      <td>2.0</td>\n",
       "      <td>0</td>\n",
       "      <td>0.333333</td>\n",
       "      <td>1.0</td>\n",
       "      <td>0.0</td>\n",
       "      <td>1</td>\n",
       "      <td>0.0</td>\n",
       "      <td>0</td>\n",
       "    </tr>\n",
       "  </tbody>\n",
       "</table>\n",
       "<p>5 rows × 51 columns</p>\n",
       "</div>"
      ],
      "text/plain": [
       "        id  ltable_id  rtable_id  \\\n",
       "0  2103728       6253        265   \n",
       "1  6657422        907        841   \n",
       "2  7553756       2846        954   \n",
       "3  4889866       6311        617   \n",
       "4  8371955       5800       1057   \n",
       "\n",
       "                                                                                           ltable_name  \\\n",
       "0                                                                                    light red meranti   \n",
       "1                                                                                                  NaN   \n",
       "2  blackfaced black spider monkey, chamek spider monkey, peruvian black spider monkey, peruvian spi...   \n",
       "3                                                                                                  NaN   \n",
       "4                                                                       black sea bass, giant sea bass   \n",
       "\n",
       "  ltable_genus     ltable_family ltable_ecology  \\\n",
       "0       Shorea  Dipterocarpaceae    Terrestrial   \n",
       "1     Aphanius   Cyprinodontidae     Freshwater   \n",
       "2       Ateles          Atelidae    Terrestrial   \n",
       "3       Shorea  Dipterocarpaceae    Terrestrial   \n",
       "4  Stereolepis     Polyprionidae         Marine   \n",
       "\n",
       "                                                                                      ltable_countries  \\\n",
       "0                                               Indonesia (Sumatera); Malaysia (Peninsular Malaysia);    \n",
       "1                                                                                           Ethiopia;    \n",
       "2          Bolivia, Plurinational States of; Brazil (Acre, Amazonas, Mato Grosso, RondÃ?Â´nia); Peru;    \n",
       "3                               Brunei Darussalam; Indonesia (Kalimantan); Malaysia (Sabah, Sarawak);    \n",
       "4  <div>Pacific Ã¢?? eastern central</div>; Mexico (Baja California, Sonora); United States (Califo...   \n",
       "\n",
       "                                                                               ltable_threat_paragraph  \\\n",
       "0                                                                                                  NaN   \n",
       "1  \\r\\r\\r\\r\\n    It is expected that there will be high human interference in the  habitats of this...   \n",
       "2  \\r\\r\\r\\r\\n    The major threat is subsistence and market hunting for food (with guns). An additi...   \n",
       "3  \\r\\r\\r\\r\\n    Directly threatened by logging activities because trees do not reach reproductive ...   \n",
       "4  \\r\\r\\r\\r\\n    The major threat is from overfishing; however, the species is protected in Califor...   \n",
       "\n",
       "                                                                         ltable_conservation_paragraph  \\\n",
       "0                                    ['\\n    The species occurs in some forest reserves.\\n\\n    \\n  ']   \n",
       "1  ['\\n    No information available. This species would benefit from protective legislation, as wel...   \n",
       "2  ['\\n    This species is confirmed, or may occur, in numerous protected areas.', <br/>, <br/>, 'B...   \n",
       "3                                                                                                  NaN   \n",
       "4  ['\\n    The fish has been protected in California since 1982 and protected in Mexico since 1992 ...   \n",
       "\n",
       "         ...        countries_countries_lev_sim countries_countries_nmw  \\\n",
       "0        ...                           0.129630                   -33.0   \n",
       "1        ...                           0.250000                    -2.0   \n",
       "2        ...                           0.000000                   -87.0   \n",
       "3        ...                           0.128571                   -48.0   \n",
       "4        ...                           0.039216                   -89.0   \n",
       "\n",
       "   countries_countries_sw country_count_country_count_exm  \\\n",
       "0                     2.0                               0   \n",
       "1                     2.0                               1   \n",
       "2                     0.0                               0   \n",
       "3                     9.0                               0   \n",
       "4                     2.0                               0   \n",
       "\n",
       "  country_count_country_count_anm country_count_country_count_lev_dist  \\\n",
       "0                        0.500000                                  1.0   \n",
       "1                        1.000000                                  0.0   \n",
       "2                        0.000000                                  1.0   \n",
       "3                        0.333333                                  1.0   \n",
       "4                        0.333333                                  1.0   \n",
       "\n",
       "  country_count_country_count_lev_sim status_match country_overlap  \\\n",
       "0                                 0.0            0             0.0   \n",
       "1                                 1.0            0             0.0   \n",
       "2                                 0.0            0             0.0   \n",
       "3                                 0.0            0             1.0   \n",
       "4                                 0.0            1             0.0   \n",
       "\n",
       "  country_count_sim  \n",
       "0                 1  \n",
       "1                 1  \n",
       "2                 0  \n",
       "3                 0  \n",
       "4                 0  \n",
       "\n",
       "[5 rows x 51 columns]"
      ]
     },
     "execution_count": 33,
     "metadata": {},
     "output_type": "execute_result"
    }
   ],
   "source": [
    "_id = pd.DataFrame(ids)\n",
    "label = pd.DataFrame(prediction)\n",
    "df = pd.concat([_id, label], axis=1)\n",
    "df.columns = ['id', 'label']\n",
    "df = df[df.label != 0]\n",
    "\n",
    "\n",
    "unlabeled = em.read_csv_metadata(\"unlabeled.csv\", encoding=\"ISO-8859-1\")\n",
    "unlabeled.rename(columns={'_id':'id'}, inplace=True)\n",
    "#unlabeled = unlabeled.set_index(['id'])\n",
    "unlabeled.head()"
   ]
  },
  {
   "cell_type": "code",
   "execution_count": 34,
   "metadata": {
    "collapsed": false
   },
   "outputs": [],
   "source": [
    "#df.columns\n",
    "corrected_ids = []\n",
    "for index, row in df.iterrows():\n",
    "    name = str(row['id']) #look here if errors start happening\n",
    "    name = name.replace('.0','')\n",
    "    corrected_ids.append(name)\n",
    "df['id'] = corrected_ids\n",
    "#result = pd.concat([unlabeled, df], axis=1, join='inner')\n",
    "#result.head()\n",
    "#df = df.set_index(['id'])\n"
   ]
  },
  {
   "cell_type": "code",
   "execution_count": 35,
   "metadata": {
    "collapsed": false
   },
   "outputs": [
    {
     "data": {
      "text/html": [
       "<div>\n",
       "<table border=\"1\" class=\"dataframe\">\n",
       "  <thead>\n",
       "    <tr style=\"text-align: right;\">\n",
       "      <th></th>\n",
       "      <th>id</th>\n",
       "      <th>label</th>\n",
       "    </tr>\n",
       "  </thead>\n",
       "  <tbody>\n",
       "    <tr>\n",
       "      <th>2</th>\n",
       "      <td>8371955</td>\n",
       "      <td>1.0</td>\n",
       "    </tr>\n",
       "    <tr>\n",
       "      <th>10</th>\n",
       "      <td>2314553</td>\n",
       "      <td>1.0</td>\n",
       "    </tr>\n",
       "    <tr>\n",
       "      <th>11</th>\n",
       "      <td>2099459</td>\n",
       "      <td>1.0</td>\n",
       "    </tr>\n",
       "    <tr>\n",
       "      <th>32</th>\n",
       "      <td>1522478</td>\n",
       "      <td>1.0</td>\n",
       "    </tr>\n",
       "    <tr>\n",
       "      <th>33</th>\n",
       "      <td>6751519</td>\n",
       "      <td>1.0</td>\n",
       "    </tr>\n",
       "  </tbody>\n",
       "</table>\n",
       "</div>"
      ],
      "text/plain": [
       "         id  label\n",
       "2   8371955    1.0\n",
       "10  2314553    1.0\n",
       "11  2099459    1.0\n",
       "32  1522478    1.0\n",
       "33  6751519    1.0"
      ]
     },
     "execution_count": 35,
     "metadata": {},
     "output_type": "execute_result"
    }
   ],
   "source": [
    "df.head()\n"
   ]
  },
  {
   "cell_type": "code",
   "execution_count": 36,
   "metadata": {
    "collapsed": false
   },
   "outputs": [
    {
     "ename": "NameError",
     "evalue": "name 'merge' is not defined",
     "output_type": "error",
     "traceback": [
      "\u001b[0;31m---------------------------------------------------------------------------\u001b[0m",
      "\u001b[0;31mNameError\u001b[0m                                 Traceback (most recent call last)",
      "\u001b[0;32m<ipython-input-36-bac60339c121>\u001b[0m in \u001b[0;36m<module>\u001b[0;34m()\u001b[0m\n\u001b[1;32m      3\u001b[0m \u001b[1;31m#result.head()\u001b[0m\u001b[1;33m\u001b[0m\u001b[1;33m\u001b[0m\u001b[0m\n\u001b[1;32m      4\u001b[0m \u001b[1;31m#unlabeled.head()\u001b[0m\u001b[1;33m\u001b[0m\u001b[1;33m\u001b[0m\u001b[0m\n\u001b[0;32m----> 5\u001b[0;31m \u001b[0mmerge\u001b[0m\u001b[1;33m(\u001b[0m\u001b[0mdf\u001b[0m\u001b[1;33m,\u001b[0m \u001b[0munlabeled\u001b[0m\u001b[1;33m,\u001b[0m \u001b[0mleft_on\u001b[0m\u001b[1;33m=\u001b[0m\u001b[1;34m'id'\u001b[0m\u001b[1;33m,\u001b[0m \u001b[0mright_on\u001b[0m\u001b[1;33m=\u001b[0m\u001b[1;34m'id'\u001b[0m\u001b[1;33m,\u001b[0m \u001b[0mhow\u001b[0m\u001b[1;33m=\u001b[0m\u001b[1;34m'outer'\u001b[0m\u001b[1;33m)\u001b[0m\u001b[1;33m\u001b[0m\u001b[0m\n\u001b[0m\u001b[1;32m      6\u001b[0m \u001b[1;33m\u001b[0m\u001b[0m\n",
      "\u001b[0;31mNameError\u001b[0m: name 'merge' is not defined"
     ]
    }
   ],
   "source": [
    "#df.head()\n",
    "#df.set_index('id').join(unlabeled.set_index('id'))\n",
    "#result.head()\n",
    "#unlabeled.head()\n",
    "merge(df, unlabeled, left_on='id', right_on='id', how='outer')\n",
    "\n"
   ]
  },
  {
   "cell_type": "code",
   "execution_count": 13,
   "metadata": {
    "collapsed": false
   },
   "outputs": [],
   "source": [
    "\n",
    "#result = pd.concat([unlabeled, df], axis=1, join='inner')\n",
    "#result.head()\n",
    "#result.to_csv('result.csv')"
   ]
  },
  {
   "cell_type": "code",
   "execution_count": 29,
   "metadata": {
    "collapsed": false
   },
   "outputs": [
    {
     "data": {
      "text/html": [
       "<div>\n",
       "<table border=\"1\" class=\"dataframe\">\n",
       "  <thead>\n",
       "    <tr style=\"text-align: right;\">\n",
       "      <th></th>\n",
       "      <th>B</th>\n",
       "      <th>D</th>\n",
       "      <th>F</th>\n",
       "    </tr>\n",
       "  </thead>\n",
       "  <tbody>\n",
       "    <tr>\n",
       "      <th>2</th>\n",
       "      <td>B2</td>\n",
       "      <td>D2</td>\n",
       "      <td>F2</td>\n",
       "    </tr>\n",
       "    <tr>\n",
       "      <th>3</th>\n",
       "      <td>B3</td>\n",
       "      <td>D3</td>\n",
       "      <td>F3</td>\n",
       "    </tr>\n",
       "    <tr>\n",
       "      <th>6</th>\n",
       "      <td>B6</td>\n",
       "      <td>D6</td>\n",
       "      <td>F6</td>\n",
       "    </tr>\n",
       "    <tr>\n",
       "      <th>7</th>\n",
       "      <td>B7</td>\n",
       "      <td>D7</td>\n",
       "      <td>F7</td>\n",
       "    </tr>\n",
       "  </tbody>\n",
       "</table>\n",
       "</div>"
      ],
      "text/plain": [
       "    B   D   F\n",
       "2  B2  D2  F2\n",
       "3  B3  D3  F3\n",
       "6  B6  D6  F6\n",
       "7  B7  D7  F7"
      ]
     },
     "execution_count": 29,
     "metadata": {},
     "output_type": "execute_result"
    }
   ],
   "source": [
    "df1 = pd.DataFrame({'A': ['A0', 'A1', 'A2', 'A3'],\n",
    "                    'B': ['B0', 'B1', 'B2', 'B3'],\n",
    "                    'C': ['C0', 'C1', 'C2', 'C3'],\n",
    "                    'D': ['D0', 'D1', 'D2', 'D3']},\n",
    "                       index=[0, 1, 2, 3])\n",
    "\n",
    "df4 = pd.DataFrame({'B': ['B2', 'B3', 'B6', 'B7'],\n",
    "              'D': ['D2', 'D3', 'D6', 'D7'],\n",
    "                    'F': ['F2', 'F3', 'F6', 'F7']},\n",
    "                   index=[2, 3, 6, 7])\n",
    "\n",
    "df4.head()"
   ]
  },
  {
   "cell_type": "code",
   "execution_count": 30,
   "metadata": {
    "collapsed": true
   },
   "outputs": [],
   "source": [
    " result = pd.concat([df1, df4], axis=1, join='inner')\n"
   ]
  },
  {
   "cell_type": "code",
   "execution_count": 31,
   "metadata": {
    "collapsed": false
   },
   "outputs": [
    {
     "data": {
      "text/html": [
       "<div>\n",
       "<table border=\"1\" class=\"dataframe\">\n",
       "  <thead>\n",
       "    <tr style=\"text-align: right;\">\n",
       "      <th></th>\n",
       "      <th>A</th>\n",
       "      <th>B</th>\n",
       "      <th>C</th>\n",
       "      <th>D</th>\n",
       "      <th>B</th>\n",
       "      <th>D</th>\n",
       "      <th>F</th>\n",
       "    </tr>\n",
       "  </thead>\n",
       "  <tbody>\n",
       "    <tr>\n",
       "      <th>2</th>\n",
       "      <td>A2</td>\n",
       "      <td>B2</td>\n",
       "      <td>C2</td>\n",
       "      <td>D2</td>\n",
       "      <td>B2</td>\n",
       "      <td>D2</td>\n",
       "      <td>F2</td>\n",
       "    </tr>\n",
       "    <tr>\n",
       "      <th>3</th>\n",
       "      <td>A3</td>\n",
       "      <td>B3</td>\n",
       "      <td>C3</td>\n",
       "      <td>D3</td>\n",
       "      <td>B3</td>\n",
       "      <td>D3</td>\n",
       "      <td>F3</td>\n",
       "    </tr>\n",
       "  </tbody>\n",
       "</table>\n",
       "</div>"
      ],
      "text/plain": [
       "    A   B   C   D   B   D   F\n",
       "2  A2  B2  C2  D2  B2  D2  F2\n",
       "3  A3  B3  C3  D3  B3  D3  F3"
      ]
     },
     "execution_count": 31,
     "metadata": {},
     "output_type": "execute_result"
    }
   ],
   "source": [
    "result.head()"
   ]
  },
  {
   "cell_type": "code",
   "execution_count": null,
   "metadata": {
    "collapsed": true
   },
   "outputs": [],
   "source": []
  }
 ],
 "metadata": {
  "anaconda-cloud": {},
  "kernelspec": {
   "display_name": "Python 3",
   "language": "python",
   "name": "python3"
  },
  "language_info": {
   "codemirror_mode": {
    "name": "ipython",
    "version": 3
   },
   "file_extension": ".py",
   "mimetype": "text/x-python",
   "name": "python",
   "nbconvert_exporter": "python",
   "pygments_lexer": "ipython3",
   "version": "3.5.2"
  }
 },
 "nbformat": 4,
 "nbformat_minor": 1
}
